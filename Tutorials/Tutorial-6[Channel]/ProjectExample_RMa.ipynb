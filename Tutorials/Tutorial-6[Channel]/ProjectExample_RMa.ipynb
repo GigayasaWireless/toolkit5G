{
 "cells": [
  {
   "cell_type": "markdown",
   "id": "5502529e",
   "metadata": {},
   "source": [
    "# Analysis of the characterstics of wireless channel for Rural Macro (RMa) terrain\n",
    "\n",
    "* The `Rural Macro` or `\"RMa\"` deployment `scenario/terrain` focuses on larger and continuous coverage.\n",
    "* The key characterstics of this scenario are continuous wide area coverage supporting high speed vehicles.\n",
    "\n",
    "* In this tutorial, we will analyze the performance of channel Model under the propagation scenario Rural Macro or \"RMa\" for a Hexagonal Base Station (BS) Layout.\n",
    "* For a given number of BSs and UEs we generate cluster level channel coefficients corresponding to every link being simulated. \n",
    "\n",
    "* We first import the necessary libraries then followed by creating objects of classes `AntennaArrays`, `NodeMobility`, \n",
    "  and `SimulationLayout` respectively.\n",
    "\n",
    "The content of the tutorial is as follows:\n",
    "\n",
    "## Table of Contents\n",
    "\n",
    "* [Python Libraries](#import-python-libraries)\n",
    "* [5G Toolkit Libraries](#import-5G-toolkit-libraries)\n",
    "* [Simulation Parameters](#simulation-parameters)\n",
    "* [Antenna Array Objects](#antenna-array-obj)\n",
    "* [Node Mobility Objects](#node-mobility-obj)\n",
    "* [Simulation Layout Object](#simulation-layout-obj)\n",
    "* [Channel Parameters](#lsp-ssp)\n",
    "* [Channel Coefficients](#clusterlevel-channelcoeff)\n",
    "\n",
    "\n",
    "\n",
    "\n",
    "\n",
    "\n"
   ]
  },
  {
   "cell_type": "markdown",
   "id": "f45b3076",
   "metadata": {},
   "source": [
    "## Python Libraries"
   ]
  },
  {
   "cell_type": "code",
   "execution_count": 1,
   "id": "e991ca9d",
   "metadata": {},
   "outputs": [],
   "source": [
    "# importing necessary python libraries\n",
    "%matplotlib widget\n",
    "\n",
    "import numpy              as np\n",
    "import matplotlib.pyplot  as plt\n",
    "import matplotlib         as mpl\n",
    "import matplotlib.patches as patches"
   ]
  },
  {
   "cell_type": "markdown",
   "id": "9a042a64",
   "metadata": {},
   "source": [
    "## 5G Toolkit Libraries"
   ]
  },
  {
   "cell_type": "code",
   "execution_count": 2,
   "id": "a4d225dd",
   "metadata": {},
   "outputs": [
    {
     "ename": "ModuleNotFoundError",
     "evalue": "No module named 'ChannelModels'",
     "output_type": "error",
     "traceback": [
      "\u001b[0;31m---------------------------------------------------------------------------\u001b[0m",
      "\u001b[0;31mModuleNotFoundError\u001b[0m                       Traceback (most recent call last)",
      "Cell \u001b[0;32mIn[2], line 7\u001b[0m\n\u001b[1;32m      5\u001b[0m \u001b[38;5;28;01mfrom\u001b[39;00m \u001b[38;5;21;01msrc\u001b[39;00m\u001b[38;5;21;01m.\u001b[39;00m\u001b[38;5;21;01mchannelModels\u001b[39;00m\u001b[38;5;21;01m.\u001b[39;00m\u001b[38;5;21;01mantennaArrays\u001b[39;00m\u001b[38;5;21;01m.\u001b[39;00m\u001b[38;5;21;01mantennaArray\u001b[39;00m \u001b[38;5;28;01mimport\u001b[39;00m AntennaArrays\n\u001b[1;32m      6\u001b[0m \u001b[38;5;28;01mfrom\u001b[39;00m \u001b[38;5;21;01msrc\u001b[39;00m\u001b[38;5;21;01m.\u001b[39;00m\u001b[38;5;21;01mchannelModels\u001b[39;00m\u001b[38;5;21;01m.\u001b[39;00m\u001b[38;5;21;01msimulationLayout\u001b[39;00m\u001b[38;5;21;01m.\u001b[39;00m\u001b[38;5;21;01msimulationLayout\u001b[39;00m \u001b[38;5;28;01mimport\u001b[39;00m SimulationLayout\n\u001b[0;32m----> 7\u001b[0m \u001b[38;5;28;01mfrom\u001b[39;00m \u001b[38;5;21;01msrc\u001b[39;00m\u001b[38;5;21;01m.\u001b[39;00m\u001b[38;5;21;01mchannelModels\u001b[39;00m\u001b[38;5;21;01m.\u001b[39;00m\u001b[38;5;21;01mchannelGenerator\u001b[39;00m\u001b[38;5;21;01m.\u001b[39;00m\u001b[38;5;21;01mcoefficientGenerator\u001b[39;00m \u001b[38;5;28;01mimport\u001b[39;00m CoefficientGenerator\n",
      "File \u001b[0;32m~/Startup_Ubuntu/Development_Work/Vikram/5G_Toolkit/10March2023/Tutorials/Tutorial-6[Channel]/../../src/channelModels/channelGenerator/coefficientGenerator.py:2\u001b[0m\n\u001b[1;32m      1\u001b[0m \u001b[38;5;28;01mimport\u001b[39;00m \u001b[38;5;21;01mnumpy\u001b[39;00m \u001b[38;5;28;01mas\u001b[39;00m \u001b[38;5;21;01mnp\u001b[39;00m\n\u001b[0;32m----> 2\u001b[0m \u001b[38;5;28;01mfrom\u001b[39;00m \u001b[38;5;21;01m.\u001b[39;00m\u001b[38;5;21;01mgenChannelCoefficeintsPerState\u001b[39;00m \u001b[38;5;28;01mimport\u001b[39;00m GenerateChannelCoefficientsPerState\n\u001b[1;32m      4\u001b[0m \u001b[38;5;28;01mclass\u001b[39;00m \u001b[38;5;21;01mCoefficientGenerator\u001b[39;00m:\n\u001b[1;32m      7\u001b[0m     \u001b[38;5;28;01mdef\u001b[39;00m \u001b[38;5;21m__init__\u001b[39m(\u001b[38;5;28mself\u001b[39m, fc, terrain, locBS, locUE, txAntArrayObjVec, rxAntArrayObjVec, d3D \u001b[38;5;241m=\u001b[39m \u001b[38;5;28;01mNone\u001b[39;00m, d2D \u001b[38;5;241m=\u001b[39m \u001b[38;5;28;01mNone\u001b[39;00m):\n",
      "File \u001b[0;32m~/Startup_Ubuntu/Development_Work/Vikram/5G_Toolkit/10March2023/Tutorials/Tutorial-6[Channel]/../../src/channelModels/channelGenerator/genChannelCoefficeintsPerState.py:2\u001b[0m\n\u001b[1;32m      1\u001b[0m \u001b[38;5;28;01mimport\u001b[39;00m \u001b[38;5;21;01mnumpy\u001b[39;00m \u001b[38;5;28;01mas\u001b[39;00m \u001b[38;5;21;01mnp\u001b[39;00m\n\u001b[0;32m----> 2\u001b[0m \u001b[38;5;28;01mfrom\u001b[39;00m \u001b[38;5;21;01mChannelModels\u001b[39;00m\u001b[38;5;21;01m.\u001b[39;00m\u001b[38;5;21;01mparameterGenerator\u001b[39;00m\u001b[38;5;21;01m.\u001b[39;00m\u001b[38;5;21;01mgenChannelParamPerState\u001b[39;00m \u001b[38;5;28;01mimport\u001b[39;00m GenerateChannelParametersPerState\n\u001b[1;32m      4\u001b[0m \u001b[38;5;28;01mclass\u001b[39;00m \u001b[38;5;21;01mGenerateChannelCoefficientsPerState\u001b[39;00m:\n\u001b[1;32m      7\u001b[0m     \u001b[38;5;28;01mdef\u001b[39;00m \u001b[38;5;21m__init__\u001b[39m(\u001b[38;5;28mself\u001b[39m, fc, terrain, numSnapShots, numBS, numUE, txAntArrayObjVec, rxAntArrayObjVec):\n",
      "\u001b[0;31mModuleNotFoundError\u001b[0m: No module named 'ChannelModels'"
     ]
    }
   ],
   "source": [
    "# importing necessary modules for simulating channel model\n",
    "import sys\n",
    "sys.path.append(\"../../\")\n",
    "from toolkit5G.channelModels.nodeMobility.nodeMobility import NodeMobility\n",
    "from toolkit5G.channelModels.antennaArrays.antennaArray import AntennaArrays\n",
    "from toolkit5G.channelModels.simulationLayout.simulationLayout import SimulationLayout\n",
    "from toolkit5G.channelModels.channelGenerator.coefficientGenerator import CoefficientGenerator"
   ]
  },
  {
   "cell_type": "code",
   "execution_count": null,
   "id": "f6b4353c",
   "metadata": {},
   "outputs": [],
   "source": [
    "from IPython.display import display, HTML\n",
    "display(HTML(\"<style>.container { width:70% !important; }</style>\"))"
   ]
  },
  {
   "cell_type": "markdown",
   "id": "20cb77ad",
   "metadata": {},
   "source": [
    "## Simulation Parameters"
   ]
  },
  {
   "cell_type": "markdown",
   "id": "a4cd065d",
   "metadata": {},
   "source": [
    "The simulation parameters are defined as follows\n",
    "  * ``propTerrain`` defines propagation scenario or terrain for BS-UE, UE-UE, BS-BS links\n",
    "  * ``carrierFrequency`` defines  array of carrier frequencies in GHz\n",
    "  * ``nBSs`` defines number of Base Stations (BSs)\n",
    "  * ``nUEs`` defines number of User Equipments (UEs) \n",
    "  * ``nSnapShots`` defines number of SnapShots"
   ]
  },
  {
   "cell_type": "code",
   "execution_count": null,
   "id": "994a22fc",
   "metadata": {},
   "outputs": [],
   "source": [
    "# Simulation Parameters\n",
    "propTerrain      = np.array([\"RMa\"])# Propagation Scenario or Terrain for BS-UE links\n",
    "carrierFrequency = np.array([3,5])  # Array of two carrier frequencies in GHz\n",
    "nBSs             = 19               # number of BSs \n",
    "nUEs             = 50              # number of UEs \n",
    "nSnapShots       = 2                # number of SnapShots"
   ]
  },
  {
   "cell_type": "markdown",
   "id": "6bd8db89",
   "metadata": {},
   "source": [
    "## Antenna Array Objects"
   ]
  },
  {
   "cell_type": "markdown",
   "id": "433e2d51",
   "metadata": {},
   "source": [
    "The following steps describe the procedure to simulate a vector or a numpy array of AntennaArrays Objects at each carrier frequency\n",
    "both at Tx and Rx side:\n"
   ]
  },
  {
   "cell_type": "code",
   "execution_count": null,
   "id": "9dbb7868",
   "metadata": {},
   "outputs": [],
   "source": [
    "# Antenna Array at UE side\n",
    "# assuming antenna element type to be \"OMNI\"\n",
    "# with 2 panel and 2 single polarized antenna element per panel.\n",
    "numCarriers = carrierFrequency.shape[0]\n",
    "ueAntArray  = np.empty(numCarriers, dtype=object)\n",
    "for i in range(carrierFrequency.size):\n",
    "    ueAntArray[i] = AntennaArrays(antennaType     = \"OMNI\", \n",
    "                                  centerFrequency = carrierFrequency[i],\n",
    "                                  arrayStructure  = np.array([1,1,2,2,1]))\n",
    "    ueAntArray[i]() "
   ]
  },
  {
   "cell_type": "markdown",
   "id": "356e0b89",
   "metadata": {},
   "source": [
    "The user can display the Rx antenna radiation pattern in 3D as follows:\n",
    "For instance at 3 GHz carrier frequency, the radiation pattern can be plotted with a call to a method `displayAntennaRadiationPattern()` of the class `AntennaArrays`"
   ]
  },
  {
   "cell_type": "code",
   "execution_count": null,
   "id": "82cad23d",
   "metadata": {},
   "outputs": [],
   "source": [
    "# Radiation Pattern of Rx antenna element \n",
    "ueAntArray[0].displayAntennaRadiationPattern()"
   ]
  },
  {
   "cell_type": "code",
   "execution_count": null,
   "id": "2b050e84",
   "metadata": {},
   "outputs": [],
   "source": [
    "# Antenna Array at BS side\n",
    "# assuming antenna element type to be \"3GPP_38.901\", a parabolic antenna \n",
    "# with 4 panel and 4 single polarized antenna element per panel.\n",
    "numCarriers    = carrierFrequency.shape[0]\n",
    "bsAntArray     = np.empty(numCarriers, dtype=object)\n",
    "for i in range(carrierFrequency.size):\n",
    "    bsAntArray[i] = AntennaArrays(antennaType     = \"3GPP_38.901\", \n",
    "                                  centerFrequency = carrierFrequency[i],\n",
    "                                  arrayStructure  = np.array([1,1,4,4,1]))\n",
    "    bsAntArray[i]()"
   ]
  },
  {
   "cell_type": "code",
   "execution_count": null,
   "id": "0c9e84c9",
   "metadata": {},
   "outputs": [],
   "source": [
    "# Radiation Pattern of Tx antenna element \n",
    "bsAntArray[0].displayAntennaRadiationPattern()"
   ]
  },
  {
   "cell_type": "markdown",
   "id": "edbf47fa",
   "metadata": {},
   "source": [
    "## Node Mobility Objects"
   ]
  },
  {
   "cell_type": "markdown",
   "id": "d6f8ac47",
   "metadata": {},
   "source": [
    "This subsection provides the following steps to simulate the mobility of each node"
   ]
  },
  {
   "cell_type": "code",
   "execution_count": null,
   "id": "e19f87f5",
   "metadata": {},
   "outputs": [],
   "source": [
    "# NodeMobility parameters\n",
    "# assuming that all the BSs are static and all the UEs are mobile.\n",
    "timeInst   = np.linspace(start = 0, stop = 10, num=nSnapShots, dtype=np.float32) # time values at each snapshot.\n",
    "UEroute    = NodeMobility(\"randomWalk\", nUEs, timeInst)"
   ]
  },
  {
   "cell_type": "markdown",
   "id": "1a6b379c",
   "metadata": {},
   "source": [
    "## Simulation Layout Object"
   ]
  },
  {
   "cell_type": "markdown",
   "id": "fba3fd70",
   "metadata": {},
   "source": [
    "The following code snippet provides the parameters to instantiate the object of the class SimulationLayout."
   ]
  },
  {
   "cell_type": "code",
   "execution_count": null,
   "id": "a7edb54b",
   "metadata": {},
   "outputs": [],
   "source": [
    "# Layout Parameters\n",
    "isd                  = 1732        # inter site distance\n",
    "minDist              = 35          # min distance between each UE and BS \n",
    "ueHt                 = 1.5         # UE height\n",
    "bsHt                 = 35          # BS height\n",
    "bslayoutType         = \"Hexagonal\" # BS layout type\n",
    "ueDropType           = \"Hexagonal\" # UE drop type\n",
    "htDist               = \"equal\"     # UE height distribution\n",
    "ueDist               = \"equal\"     # UE Distribution per site\n",
    "nSectorsPerSite      = 3           # number of sectors per site\n",
    "maxNumFloors         = 1           # Max number of floors in an indoor object\n",
    "minNumFloors         = 1           # Min number of floors in an indoor object\n",
    "heightOfRoom         = 3           # height of room or ceiling in meters\n",
    "indoorUEfract        = 0.5         # Fraction of UEs located indoor\n",
    "lengthOfIndoorObject = 3           # length of indoor object typically having rectangular geometry \n",
    "widthOfIndoorObject  = 3           # width of indoor object\n",
    "forceLOS             = False       # boolen flag if true forces every link to be in LOS state "
   ]
  },
  {
   "cell_type": "code",
   "execution_count": null,
   "id": "10037fa6",
   "metadata": {},
   "outputs": [],
   "source": [
    "# simulation layout object                                 \n",
    ">>> simLayoutObj = SimulationLayout(numOfBS = nBSs,\n",
    "...                                 numOfUE = nUEs,\n",
    "...                                 heightOfBS = bsHt,\n",
    "...                                 heightOfUE = ueHt, \n",
    "...                                 ISD = isd,\n",
    "...                                 layoutType = bslayoutType,\n",
    "...                                 ueDropMethod = ueDropType, \n",
    "...                                 UEdistibution = ueDist,\n",
    "...                                 UEheightDistribution = htDist,\n",
    "...                                 numOfSectorsPerSite = nSectorsPerSite,\n",
    "...                                 minUEBSDistance = minDist,\n",
    "                                    ueRoute = UEroute) \n",
    ">>> simLayoutObj(terrain = propTerrain, \n",
    "...              carrierFreq = carrierFrequency, \n",
    "...              ueAntennaArray = ueAntArray,\n",
    "...              bsAntennaArray = bsAntArray,\n",
    "...              indoorUEfraction = indoorUEfract,\n",
    "...              lengthOfIndoorObject = lengthOfIndoorObject,\n",
    "...              widthOfIndoorObject = widthOfIndoorObject,\n",
    "...              forceLOS = forceLOS)\n",
    "# displaying the topology of simulation layout\n",
    ">>> simLayoutObj.display2DTopology()"
   ]
  },
  {
   "cell_type": "markdown",
   "id": "6bae9acd",
   "metadata": {},
   "source": [
    "## Channel Parameters"
   ]
  },
  {
   "cell_type": "markdown",
   "id": "462f957d",
   "metadata": {},
   "source": [
    "* This subsection provides the steps to obtain all the cluster level channel parameters, which includes both `Large Scale Parameters (LSPs)`\n",
    "  and `Small Scale Parameters (SSPs)`. \n",
    "* We plot the distribution of LSPs such as `Path Loss (PL)`, `Delay Spread (DS)` and `Angular Spreads` both in Azimuth and Zenith directions,\n",
    "  and from SSPs we plot the distribution of `cluster powers (Pn)`.\n",
    "  \n",
    "Cluster level channel parameters are obtained as follows:"
   ]
  },
  {
   "cell_type": "code",
   "execution_count": null,
   "id": "6b416698",
   "metadata": {},
   "outputs": [],
   "source": [
    "# channel parameters\n",
    "paramGenObj = simLayoutObj.getParameterGenerator()"
   ]
  },
  {
   "cell_type": "markdown",
   "id": "fb128801",
   "metadata": {},
   "source": [
    "### PathLoss\n",
    "The following code snippet plots the `cdf/pdf of PathLoss (PL) in dB scale` and `PathLoss (PL) vs 3D distances (d3D)`."
   ]
  },
  {
   "cell_type": "code",
   "execution_count": null,
   "id": "c71c4c36",
   "metadata": {
    "scrolled": true
   },
   "outputs": [],
   "source": [
    "\n",
    "n_bins = 50\n",
    "# getting data of the histogram\n",
    "count, bins_count = np.histogram(paramGenObj.pathLoss, bins=n_bins)\n",
    "  \n",
    "# finding the PDF of the histogram using count values\n",
    "pdf = count / sum(count)\n",
    "  \n",
    "# using numpy np.cumsum to calculate the CDF\n",
    "# We can also find using the PDF values by looping and adding\n",
    "cdf = np.cumsum(pdf)\n",
    "\n",
    "fig, ax = plt.subplots(1, 2)\n",
    "# set the spacing between subplots\n",
    "fig.tight_layout()\n",
    "# plotting PDF and CDF\n",
    "ax[0].plot(bins_count[1:], pdf, color=\"red\", label=\"PDF\")\n",
    "ax[0].plot(bins_count[1:], cdf, label=\"CDF\")\n",
    "ax[0].set_title(\"CDF|PDF of PathLoss in dB\")\n",
    "ax[0].set_ylabel(\"$F(PL)|f(PL)$\")\n",
    "ax[0].set_xlabel(\"Bin Count\")\n",
    "ax[0].legend()\n",
    "\n",
    "# numAverages = 100\n",
    "numAverages = int(simLayoutObj.d3D[:,0:simLayoutObj.numOfBS,simLayoutObj.numOfBS:simLayoutObj.numOfBS+simLayoutObj.numOfUE].flatten().shape[0]/10)\n",
    "sortInd  = np.argsort(simLayoutObj.d3D[:,0:simLayoutObj.numOfBS,simLayoutObj.numOfBS:simLayoutObj.numOfBS+simLayoutObj.numOfUE].flatten().flatten())\n",
    "distance = np.mean(simLayoutObj.d3D[:,0:simLayoutObj.numOfBS,simLayoutObj.numOfBS:simLayoutObj.numOfBS+simLayoutObj.numOfUE].flatten()[sortInd].reshape(-1, numAverages), axis = 1)\n",
    "pathLoss = np.mean(paramGenObj.pathLoss[0].flatten()[sortInd].reshape(-1, numAverages), axis = 1)\n",
    "ax[1].plot(distance, pathLoss, color=\"green\", label=\"PL in dB\")\n",
    "ax[1].set_title(\"PathLoss in dB\")\n",
    "ax[1].set_ylabel(\"PL\")\n",
    "ax[1].set_xlabel(\"d3D\")\n",
    "ax[1].legend()\n",
    "ax[1].set_ylim([paramGenObj.pathLoss.min(), paramGenObj.pathLoss.max()])\n",
    "\n",
    "# set the spacing between subplots\n",
    "plt.subplots_adjust(left=0.1,\n",
    "                    bottom=0.1,\n",
    "                    right=0.9,\n",
    "                    top=0.9,\n",
    "                    wspace=0.4,\n",
    "                    hspace=0.4)\n",
    "# Show plot\n",
    "plt.show()"
   ]
  },
  {
   "cell_type": "markdown",
   "id": "8abc0cc5",
   "metadata": {},
   "source": [
    "### DelaySpread"
   ]
  },
  {
   "cell_type": "markdown",
   "id": "c93d4ff9",
   "metadata": {},
   "source": [
    "The following code snippet generate Delay Spread"
   ]
  },
  {
   "cell_type": "code",
   "execution_count": null,
   "id": "b3dc1f82",
   "metadata": {},
   "outputs": [],
   "source": [
    "paramGenObj.DS.min(), paramGenObj.DS.max(), paramGenObj.DS.mean()"
   ]
  },
  {
   "cell_type": "code",
   "execution_count": null,
   "id": "5285150b",
   "metadata": {},
   "outputs": [],
   "source": [
    "n_bins = 50\n",
    "\n",
    "# plotting PDF and CDF\n",
    "fig, ax = plt.subplots(1, 2)\n",
    "\n",
    "# getting data of the histogram\n",
    "count, bins_count = np.histogram(paramGenObj.DS, bins=n_bins)\n",
    "  \n",
    "# finding the PDF of the histogram using count values\n",
    "pdf = count / sum(count)\n",
    "mu = paramGenObj.DS.mean()\n",
    "# using numpy np.cumsum to calculate the CDF\n",
    "# We can also find using the PDF values by looping and adding\n",
    "cdf = np.cumsum(pdf)\n",
    "\n",
    "ax[0].plot(bins_count[1:], pdf, color=\"red\", label=\"PDF\")\n",
    "ax[0].plot(bins_count[1:], cdf, label=\"CDF\")\n",
    "ax[0].axvline(x = mu, ymin = 0, ymax = 1, color ='green', label=\"mean value\")\n",
    "ax[0].set_title(\"CDF|PDF of $\\Delta \\\\tau$\")\n",
    "ax[0].set_ylabel(\"$f(\\Delta \\\\tau)$\")\n",
    "ax[0].set_xlabel(\"$\\Delta \\\\tau$\")\n",
    "ax[0].legend(loc=1)\n",
    "\n",
    "#********************************************************************\n",
    "\n",
    "# getting data of the histogram\n",
    "count, bins_count = np.histogram(np.log10(paramGenObj.DS), bins=n_bins)\n",
    "  \n",
    "# finding the PDF of the histogram using count values\n",
    "pdf = count / sum(count)\n",
    "mu  = np.log10(paramGenObj.DS).mean()\n",
    "# using numpy np.cumsum to calculate the CDF\n",
    "# We can also find using the PDF values by looping and adding\n",
    "cdf = np.cumsum(pdf)\n",
    "\n",
    "ax[1].plot(bins_count[1:], pdf, color=\"red\", label=\"PDF\")\n",
    "ax[1].plot(bins_count[1:], cdf, label=\"CDF\")\n",
    "ax[1].axvline(x = mu, ymin = 0, ymax = 1, color ='green', label=\"mean value: \"+str(mu))\n",
    "ax[1].legend(loc=1)\n",
    "ax[1].set_title(\"CDF|PDF of $log_{10}(\\Delta \\\\tau)$\")\n",
    "ax[1].set_ylabel(\"$f(log_{10}(\\Delta \\\\tau))$\")\n",
    "ax[1].set_xlabel(\"$log_{10}(\\Delta \\\\tau)$\")\n",
    "# set the spacing between subplots\n",
    "plt.subplots_adjust(left=0.1,\n",
    "                    bottom=0.1,\n",
    "                    right=0.9,\n",
    "                    top=0.9,\n",
    "                    wspace=0.4,\n",
    "                    hspace=0.4)\n",
    "# Show plot\n",
    "plt.show()"
   ]
  },
  {
   "cell_type": "markdown",
   "id": "9a0c6a86",
   "metadata": {},
   "source": [
    "### Angular Spreads"
   ]
  },
  {
   "cell_type": "markdown",
   "id": "6227bbeb",
   "metadata": {},
   "source": [
    "One can plot the Angular Spreads using the following script:"
   ]
  },
  {
   "cell_type": "code",
   "execution_count": null,
   "id": "464448da",
   "metadata": {
    "scrolled": true
   },
   "outputs": [],
   "source": [
    "n_bins = 50\n",
    "\n",
    "# plotting PDF and CDF\n",
    "fig, ax = plt.subplots(2, 4)\n",
    "\n",
    "#*************************  ASA  *******************************\n",
    "# getting data of the histogram\n",
    "count, bins_count = np.histogram(paramGenObj.ASA, bins=n_bins)\n",
    "  \n",
    "# finding the PDF of the histogram using count values\n",
    "pdf = count / sum(count)\n",
    "mu = paramGenObj.ASA.mean()\n",
    "# using numpy np.cumsum to calculate the CDF\n",
    "# We can also find using the PDF values by looping and adding\n",
    "cdf = np.cumsum(pdf)\n",
    "\n",
    "ax[0,0].plot(bins_count[1:], pdf, color=\"red\", label=\"PDF\")\n",
    "ax[0,0].plot(bins_count[1:], cdf, label=\"CDF\")\n",
    "ax[0,0].axvline(x = mu, ymin = 0, ymax = 1, color ='green', label=\"mean value\")\n",
    "ax[0,0].set_title(\"CDF|PDF of Arrival $\\Delta \\\\phi$\", fontsize = 12)\n",
    "ax[0,0].set_ylabel(\"$f_{A}(\\Delta \\\\phi)$\", fontsize = 12)\n",
    "ax[0,0].set_xlabel(\"$\\Delta \\\\phi$\", fontsize = 12)\n",
    "ax[0,0].legend(loc=1)\n",
    "\n",
    "#********************************************************************\n",
    "\n",
    "# getting data of the histogram\n",
    "count, bins_count = np.histogram(np.log10(paramGenObj.ASA), bins=n_bins)\n",
    "  \n",
    "# finding the PDF of the histogram using count values\n",
    "pdf = count / sum(count)\n",
    "mu  = np.log10(paramGenObj.ASA).mean()\n",
    "# using numpy np.cumsum to calculate the CDF\n",
    "# We can also find using the PDF values by looping and adding\n",
    "cdf = np.cumsum(pdf)\n",
    "\n",
    "ax[0,1].plot(bins_count[1:], pdf, color=\"red\", label=\"PDF\")\n",
    "ax[0,1].plot(bins_count[1:], cdf, label=\"CDF\")\n",
    "ax[0,1].axvline(x = mu, ymin = 0, ymax = 1, color ='green', label=\"mean value: \"+str(mu))\n",
    "ax[0,1].legend(loc=1)\n",
    "ax[0,1].set_title(\"CDF|PDF of Arrival $log_{10}(\\Delta \\\\phi)$\", fontsize = 12)\n",
    "ax[0,1].set_ylabel(\"$f_{A}(log_{10}(\\Delta \\\\phi))$\", fontsize = 12)\n",
    "ax[0,1].set_xlabel(\"$log_{10}(\\Delta \\\\phi)$\", fontsize = 12)\n",
    "\n",
    "#*************************  ASD  *******************************\n",
    "\n",
    "# getting data of the histogram\n",
    "count, bins_count = np.histogram(paramGenObj.ASD, bins=n_bins)\n",
    "  \n",
    "# finding the PDF of the histogram using count values\n",
    "pdf = count / sum(count)\n",
    "mu = paramGenObj.ASD.mean()\n",
    "# using numpy np.cumsum to calculate the CDF\n",
    "# We can also find using the PDF values by looping and adding\n",
    "cdf = np.cumsum(pdf)\n",
    "\n",
    "ax[0,2].plot(bins_count[1:], pdf, color=\"red\", label=\"PDF\")\n",
    "ax[0,2].plot(bins_count[1:], cdf, label=\"CDF\")\n",
    "ax[0,2].axvline(x = mu, ymin = 0, ymax = 1, color ='green', label=\"mean value\")\n",
    "ax[0,2].set_title(\"CDF|PDF of Departure $\\Delta \\\\phi$\")\n",
    "ax[0,2].set_ylabel(\"$f_{D}(\\Delta \\\\phi)$\", fontsize = 12)\n",
    "ax[0,2].set_xlabel(\"$\\Delta \\\\phi$\", fontsize = 12)\n",
    "ax[0,2].legend(loc=1)\n",
    "\n",
    "#********************************************************************\n",
    "\n",
    "# getting data of the histogram\n",
    "count, bins_count = np.histogram(np.log10(paramGenObj.ASD), bins=n_bins)\n",
    "  \n",
    "# finding the PDF of the histogram using count values\n",
    "pdf = count / sum(count)\n",
    "mu  = np.log10(paramGenObj.ASD).mean()\n",
    "# using numpy np.cumsum to calculate the CDF\n",
    "# We can also find using the PDF values by looping and adding\n",
    "cdf = np.cumsum(pdf)\n",
    "\n",
    "ax[0,3].plot(bins_count[1:], pdf, color=\"red\", label=\"PDF\")\n",
    "ax[0,3].plot(bins_count[1:], cdf, label=\"CDF\")\n",
    "ax[0,3].axvline(x = mu, ymin = 0, ymax = 1, color ='green', label=\"mean value: \"+str(mu))\n",
    "ax[0,3].legend(loc=1)\n",
    "ax[0,3].set_title(\"CDF|PDF of Departure $log_{10}(\\Delta \\\\phi)$\")\n",
    "ax[0,3].set_ylabel(\"$f_{D}(log_{10}(\\Delta \\\\phi))$\", fontsize = 12)\n",
    "ax[0,3].set_xlabel(\"$log_{10}(\\Delta \\\\phi)$\", fontsize = 12)\n",
    "\n",
    "#*************************  ZSA  *******************************\n",
    "# getting data of the histogram\n",
    "count, bins_count = np.histogram(paramGenObj.ZSA, bins=n_bins)\n",
    "  \n",
    "# finding the PDF of the histogram using count values\n",
    "pdf = count / sum(count)\n",
    "mu = paramGenObj.ZSA.mean()\n",
    "# using numpy np.cumsum to calculate the CDF\n",
    "# We can also find using the PDF values by looping and adding\n",
    "cdf = np.cumsum(pdf)\n",
    "\n",
    "ax[1,0].plot(bins_count[1:], pdf, color=\"red\", label=\"PDF\")\n",
    "ax[1,0].plot(bins_count[1:], cdf, label=\"CDF\")\n",
    "ax[1,0].axvline(x = mu, ymin = 0, ymax = 1, color ='green', label=\"mean value\")\n",
    "ax[1,0].set_title(\"CDF|PDF of Arrival $\\Delta \\\\theta$\")\n",
    "ax[1,0].set_ylabel(\"$f_{A}(\\Delta \\\\theta)$\", fontsize = 12)\n",
    "ax[1,0].set_xlabel(\"$\\Delta \\\\theta$\", fontsize = 12)\n",
    "ax[1,0].legend(loc=1)\n",
    "\n",
    "#********************************************************************\n",
    "\n",
    "# getting data of the histogram\n",
    "count, bins_count = np.histogram(np.log10(paramGenObj.ZSA), bins=n_bins)\n",
    "  \n",
    "# finding the PDF of the histogram using count values\n",
    "pdf = count / sum(count)\n",
    "mu  = np.log10(paramGenObj.ZSA).mean()\n",
    "# using numpy np.cumsum to calculate the CDF\n",
    "# We can also find using the PDF values by looping and adding\n",
    "cdf = np.cumsum(pdf)\n",
    "\n",
    "ax[1,1].plot(bins_count[1:], pdf, color=\"red\", label=\"PDF\")\n",
    "ax[1,1].plot(bins_count[1:], cdf, label=\"CDF\")\n",
    "ax[1,1].axvline(x = mu, ymin = 0, ymax = 1, color ='green', label=\"mean value: \"+str(mu))\n",
    "ax[1,1].legend(loc=1)\n",
    "ax[1,1].set_title(\"CDF|PDF of Arrival $log_{10}(\\Delta \\\\theta)$\")\n",
    "ax[1,1].set_ylabel(\"$f_{A}(log_{10}(\\Delta \\\\theta))$\", fontsize = 12)\n",
    "ax[1,1].set_xlabel(\"$log_{10}(\\Delta \\\\theta)$\", fontsize = 12)\n",
    "\n",
    "#*************************  ZSD  *******************************\n",
    "\n",
    "# getting data of the histogram\n",
    "count, bins_count = np.histogram(paramGenObj.ZSD, bins=n_bins)\n",
    "  \n",
    "# finding the PDF of the histogram using count values\n",
    "pdf = count / sum(count)\n",
    "mu = paramGenObj.ZSD.mean()\n",
    "# using numpy np.cumsum to calculate the CDF\n",
    "# We can also find using the PDF values by looping and adding\n",
    "cdf = np.cumsum(pdf)\n",
    "\n",
    "ax[1,2].plot(bins_count[1:], pdf, color=\"red\", label=\"PDF\")\n",
    "ax[1,2].plot(bins_count[1:], cdf, label=\"CDF\")\n",
    "ax[1,2].axvline(x = mu, ymin = 0, ymax = 1, color ='green', label=\"mean value\")\n",
    "ax[1,2].set_title(\"CDF|PDF of Departure $\\Delta \\\\theta$\", fontsize = 12)\n",
    "ax[1,2].set_ylabel(\"$f_{D}(\\Delta \\\\theta)$\", fontsize = 12)\n",
    "ax[1,2].set_xlabel(\"$\\Delta \\\\theta$\", fontsize = 12)\n",
    "ax[1,2].legend(loc=1)\n",
    "\n",
    "#********************************************************************\n",
    "\n",
    "# getting data of the histogram\n",
    "count, bins_count = np.histogram(np.log10(paramGenObj.ZSD), bins=n_bins)\n",
    "  \n",
    "# finding the PDF of the histogram using count values\n",
    "pdf = count / sum(count)\n",
    "mu  = np.log10(paramGenObj.ZSD).mean()\n",
    "# using numpy np.cumsum to calculate the CDF\n",
    "# We can also find using the PDF values by looping and adding\n",
    "cdf = np.cumsum(pdf)\n",
    "\n",
    "ax[1,3].plot(bins_count[1:], pdf, color=\"red\", label=\"PDF\")\n",
    "ax[1,3].plot(bins_count[1:], cdf, label=\"CDF\")\n",
    "ax[1,3].axvline(x = mu, ymin = 0, ymax = 1, color ='green', label=\"mean value: \"+str(mu))\n",
    "ax[1,3].legend(loc=1)\n",
    "ax[1,3].set_title(\"CDF|PDF of Departure $log_{10}(\\Delta \\\\theta)$\", fontsize = 12)\n",
    "ax[1,3].set_ylabel(\"$f_{D}(log_{10}(\\Delta \\\\theta))$\", fontsize = 12)\n",
    "ax[1,3].set_xlabel(\"$log_{10}(\\Delta \\\\theta)$\", fontsize = 12)\n",
    "\n",
    "\n",
    "# set the spacing between subplots\n",
    "plt.subplots_adjust(left=0.1,\n",
    "                    bottom=0.1,\n",
    "                    right=0.9,\n",
    "                    top=0.9,\n",
    "                    wspace=0.4,\n",
    "                    hspace=0.4)\n",
    "\n",
    "# Show plot\n",
    "plt.show()"
   ]
  },
  {
   "cell_type": "markdown",
   "id": "9d2986d3",
   "metadata": {},
   "source": [
    "### Cluster Powers\n",
    "The following script plot the statistical distribution of cluster power Pn"
   ]
  },
  {
   "cell_type": "code",
   "execution_count": null,
   "id": "997ea961",
   "metadata": {},
   "outputs": [],
   "source": [
    "n_bins = 50\n",
    "\n",
    "# plotting PDF and CDF\n",
    "fig, ax = plt.subplots(1, 1)\n",
    "\n",
    "# getting data of the histogram\n",
    "count, bins_count = np.histogram(paramGenObj.Pn, bins=n_bins)\n",
    "  \n",
    "# finding the PDF of the histogram using count values\n",
    "pdf = count / sum(count)\n",
    "mu = paramGenObj.Pn.mean()\n",
    "# using numpy np.cumsum to calculate the CDF\n",
    "# We can also find using the PDF values by looping and adding\n",
    "cdf = np.cumsum(pdf)\n",
    "\n",
    "ax.plot(bins_count[1:], pdf, color=\"red\", label=\"PDF\")\n",
    "ax.plot(bins_count[1:], cdf, label=\"CDF\")\n",
    "ax.axvline(x = mu, ymin = 0, ymax = 1, color ='green', label=\"mean value: \"+str(mu))\n",
    "ax.set_title(\"CDF|PDF of $P_{n}$\")\n",
    "ax.set_ylabel(\"$f(P_{n})$\")\n",
    "ax.set_xlabel(\"$P_{n}$\")\n",
    "ax.legend()\n",
    "\n",
    "\n",
    "plt.show()"
   ]
  },
  {
   "cell_type": "markdown",
   "id": "036ead65",
   "metadata": {},
   "source": [
    "## Channel Coefficients"
   ]
  },
  {
   "cell_type": "markdown",
   "id": "e3304b83",
   "metadata": {},
   "source": [
    "Cluster level channel coefficients can be simulated using the following code snippet"
   ]
  },
  {
   "cell_type": "code",
   "execution_count": null,
   "id": "0994a10c",
   "metadata": {},
   "outputs": [],
   "source": [
    "# Instantiating CoefficientGenerator class with the following parameters\n",
    "coeffGenObj = CoefficientGenerator(fc = carrierFrequency,\n",
    "                                   terrain = propTerrain,\n",
    "                                   locBS = simLayoutObj.BSLocations + simLayoutObj.BStracks,\n",
    "                                   locUE = simLayoutObj.UELocations + simLayoutObj.UEtracks,\n",
    "                                   txAntArrayObjVec = bsAntArray,\n",
    "                                   rxAntArrayObjVec = ueAntArray,\n",
    "                                   velocityVector   = simLayoutObj.UEvelocityVector,\n",
    "                                   timeInstances    = timeInst,      \n",
    "                                   d3D   = simLayoutObj.d3D,\n",
    "                                   d2D   = simLayoutObj.d2D)\n",
    "# Passing link state vector as input                               \n",
    "coeffGenObj(simLayoutObj.linkState) "
   ]
  },
  {
   "cell_type": "markdown",
   "id": "fb233f51",
   "metadata": {},
   "source": [
    "The following code shows how to access cluster level channel coefficients and delays.\n",
    "* `channelCoeff` is a numpy array of shape (`Nf`,`Ns`,`Nbs`,`Nue`,`Np`,`Nrxant`,`Ntxant`) and\n",
    "* `channelDelays` a numpy array of shape (`Nf`,`Ns`,`Nbs`,`Nue`,`Np`) respectively\n",
    "Where \n",
    "* `Nf` correspond to number of carrier frequencies in simulation\n",
    "* `Ns` correspond to number of Snap-Shots\n",
    "* `Nbs` correspond to number of BSs\n",
    "* `Nue` correspond to number of UEs\n",
    "* `Np` correspond to number of paths or clusters\n",
    "* `Nrxant` correspond to number of Rx Antenna elements\n",
    "* `Ntxant` correspond to number of Tx Antenna elements\n",
    "\n",
    "Since the antenna elements at both Tx and Rx experience same delay, we exclude these dimensions when implementing `channelDelays` corresponding to the class `CoefficientGenerator`.       \n",
    "      \n",
    "      "
   ]
  },
  {
   "cell_type": "code",
   "execution_count": null,
   "id": "72e97c8a",
   "metadata": {},
   "outputs": [],
   "source": [
    "# Printing channel coefficients\n",
    "coeffGenObj.channelCoeff.shape \n",
    "#(Nf,Ns,Nbs,Nue,Np,Nrxant,Ntxant)"
   ]
  },
  {
   "cell_type": "code",
   "execution_count": null,
   "id": "71a06806",
   "metadata": {},
   "outputs": [],
   "source": [
    "# Printing channel delays\n",
    "coeffGenObj.channelDelays.shape\n",
    "#(Nf,Ns,Nbs,Nue,Np)"
   ]
  },
  {
   "cell_type": "code",
   "execution_count": null,
   "id": "2d8ba79a",
   "metadata": {},
   "outputs": [],
   "source": []
  }
 ],
 "metadata": {
  "kernelspec": {
   "display_name": "Python 3 (ipykernel)",
   "language": "python",
   "name": "python3"
  },
  "language_info": {
   "codemirror_mode": {
    "name": "ipython",
    "version": 3
   },
   "file_extension": ".py",
   "mimetype": "text/x-python",
   "name": "python",
   "nbconvert_exporter": "python",
   "pygments_lexer": "ipython3",
   "version": "3.11.0"
  }
 },
 "nbformat": 4,
 "nbformat_minor": 5
}
