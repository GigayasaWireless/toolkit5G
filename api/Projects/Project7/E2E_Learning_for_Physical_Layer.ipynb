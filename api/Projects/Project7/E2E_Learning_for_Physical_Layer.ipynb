{
 "cells": [
  {
   "cell_type": "markdown",
   "id": "11d223f3",
   "metadata": {},
   "source": [
    "# Constellation Learning in an AWGN Channel\n",
    "\n",
    "In this notebook, we will learn how to implement an end-to-end digital communication system as an `AutoEncoder`[1] and compared its performance with a `(n,k) Hamming Code`. \n",
    "\n",
    " * We analyze the performance of an autoencoder based modeling of a communication system as opposed to                  traditional modeling, where designing signal alphabet at transmitter (Tx) and detection algorithms at    receiver    (Rx) are based on a given mathematical/statistical channel/system model.\n",
    " \n",
    "\n",
    " * We simulate the performance of an AutoEncoder based communication link in the presence of Additive White Gaussian    Noise (AWGN), where Tx sends one out of ``M`` message/information symbols per `n` channel uses through a noisy      channel and the Rx estimates the transmitted symbols through noisy observations.\n",
    " \n",
    "\n",
    "* `The goal is to learn a signalling alphabet/constellation scheme that is robust with respect to the noise            introduced by the channel at Tx`\n",
    "\n",
    "\n",
    "\n",
    " ## Table of Contents\n",
    "\n",
    "* [Importing Libraries](#import-libraries)\n",
    "* [Parameters of AE](#AE-parameters)\n",
    "* [Training Data](#training-data-set)\n",
    "* [Testing Data](#testing-data-set)\n",
    "* [Normalization Functions](#norm-func)\n",
    "* [Defining AE Model](#AE-model)\n",
    "* [Training AE](#AE-training)\n",
    "* [Defining Tx, Channel and Rx from Trained AE](#individual-model)\n",
    "* [Constellation Learning](#constellation-learning)\n",
    "* [Block Error Rate (BLER) performance](#BLER)\n",
    "* [References](#ref)\n",
    "\n",
    "\n",
    "\n",
    "\n",
    "\n",
    "\n",
    "\n"
   ]
  },
  {
   "cell_type": "markdown",
   "id": "0542af65",
   "metadata": {},
   "source": [
    "### PHY layer as AutoEncoder"
   ]
  },
  {
   "cell_type": "markdown",
   "id": "2d7adf74",
   "metadata": {},
   "source": [
    "* The fundamental idea behind this tutorial is to model Physical Layer as an ``AutoEncoder``(AE).\n",
    "\n",
    "\n",
    "* An ``AutoEncoder``(AE) is an Artificial Neural Network (ANN) used to learn an efficient representation of data at   an intermediate layer to reproduce the input at its output.\n",
    "\n",
    "\n",
    "* We Interpret end to end communication link, i.e., Tx, channel, and Rx as a single Neural Network (NN) that can be   trained as an AE which reconstructs its input at its output, as communication is all about                           reproducing/reconstructing messages transmitted by Tx at Rx faithfully in the presence of channel perturbations     and Rx noise."
   ]
  },
  {
   "cell_type": "markdown",
   "id": "53b6df87",
   "metadata": {},
   "source": [
    "### Steps"
   ]
  },
  {
   "cell_type": "markdown",
   "id": "c8e89aa8",
   "metadata": {},
   "source": [
    "Following are the steps that we follow in simulation:\n",
    "\n",
    "* Define the hyper parameters of AE :\n",
    "    - number of information symbols `M`, where each symbol carry `k`bits\n",
    "    \n",
    "    - number of channel uses `n`\n",
    "    \n",
    "    - snr in dB at which AE is being trained, which we call `snr_train`\n",
    "    \n",
    "    \n",
    "    \n",
    "* Define embedings for each information symbol that is to be fed as an input to AE.\n",
    "\n",
    "\n",
    "* Define training and testing data set by randomizing the label\n",
    "\n",
    "\n",
    "* Define end to end AutoEncoder by using the already imported `keras` built in layers.\n",
    "\n",
    "    - Tx is being implmented as a stack of two keras `Dense` layers one with `ReLU` activation and another with           `linear` activation. The output of the second Dense layer is fed to a normalization layer which we implement         using keras `Lambda` layer.\n",
    "    \n",
    "    - Channel is implemented as a single `Noise` layer with certain noise standard deviation, which is a function of       both Rate of the code (R) and snr_train.\n",
    "    \n",
    "    - Rx also consists of two keras Dense layers, one with `ReLU` activation and the last one with `softmax`               activation. The last layer must output probabilities (i.e., for a given received noisy vector **v** of               dimension M, it outputs max aposteriori probability vector of dimension M, i.e.,                                     max(prob(**w**|**v**)) for any **w** belongs to transmitted oneshot embeddings)\n",
    "\n",
    "**Note:**  We choose different values of number of training (`N`) and testing samples (`N_test`) for constellation plots and for BlockErrorRate (BLER) plots.\n",
    "\n",
    "\n",
    "**Note:** For `(n,k) = (7,4)`, we use `sklearn T-distributed Stochastic Neighbor Embedding (TSNE)` to plot the learned constellation. Typically we use less number of `N` and `N_test` in such cases.\n",
    "For BLER plots we always go with high values of `N`, `N_test`   "
   ]
  },
  {
   "cell_type": "markdown",
   "id": "fe2a8e66",
   "metadata": {},
   "source": [
    "![title](img/autoencoder.png)"
   ]
  },
  {
   "cell_type": "markdown",
   "id": "d4d19db8",
   "metadata": {},
   "source": [
    "## Importing Libraries"
   ]
  },
  {
   "cell_type": "code",
   "execution_count": 1,
   "id": "89d74c54",
   "metadata": {},
   "outputs": [],
   "source": [
    "import os\n",
    "os.environ[\"CUDA_VISIBLE_DEVICES\"] = \"-1\"\n",
    "os.environ['TF_CPP_MIN_LOG_LEVEL'] = '3' \n",
    "\n",
    "\n",
    "# Importing necessary Numpy, Matplotlib, TensorFlow, Keras and scikit-learn modules\n",
    "%matplotlib widget\n",
    "# %matplotlib inline\n",
    "import matplotlib.pyplot as plt\n",
    "import numpy as np\n",
    "import tensorflow as tf\n",
    "from keras.layers import Input, Dense, GaussianNoise, Lambda, BatchNormalization\n",
    "from keras.models import Model\n",
    "from keras.optimizers import Adam, SGD\n",
    "from keras import backend as be"
   ]
  },
  {
   "cell_type": "markdown",
   "id": "60b5e0f2",
   "metadata": {},
   "source": [
    "The following code cell defines the parametes of an AutoEncoder including the `snr_dB` at which it is being trained.\n",
    "We assume (n,k) = (7,4) here but the code is generailized to support other configurations as well such as (2,4) and (2,2) given in [1] "
   ]
  },
  {
   "cell_type": "markdown",
   "id": "2fd91691",
   "metadata": {},
   "source": [
    "## Parameters of AutoEncoder"
   ]
  },
  {
   "cell_type": "code",
   "execution_count": 2,
   "id": "ef446c0a",
   "metadata": {},
   "outputs": [
    {
     "name": "stdout",
     "output_type": "stream",
     "text": [
      "###################################################################################################\n",
      "Parameters of (7, 4) AutoEncoder are:\n",
      "\n",
      "Number of Information Symbols:16\n",
      "Number of Bits Per Information Symbol:4\n",
      "Number of Channel Uses:7\n",
      "Rate of Communication:0.5714285714285714\n"
     ]
    }
   ],
   "source": [
    "#################################################\n",
    "# Parameters of a (n,k) AutoEncoder (AE)\n",
    "# all the symbols are assumed to be real valued\n",
    "#################################################\n",
    "\n",
    "# number of information/message symbols that Tx communicates over channel to Rx\n",
    "M = 16 \n",
    "# number of bits per information symbol\n",
    "k = int(np.log2(M)) \n",
    "# number of channel uses or dimension of each code-word symbol or number of bits per code-word symbol\n",
    "n = 7\n",
    "# Rate of communication. i.e., k bits per n channel uses\n",
    "R = k/n \n",
    "print(\"###################################################################################################\")\n",
    "print(\"Parameters of \"+str((n,k))+\" AutoEncoder are:\\n\")\n",
    "print(\"Number of Information Symbols:\" + str(M))\n",
    "print(\"Number of Bits Per Information Symbol:\" + str(k))\n",
    "print(\"Number of Channel Uses:\" + str(n))\n",
    "print(\"Rate of Communication:\" + str(R))"
   ]
  },
  {
   "cell_type": "code",
   "execution_count": 3,
   "id": "5e05dc2c",
   "metadata": {},
   "outputs": [],
   "source": [
    "###################################\n",
    "#SNR at which AE is being trained\n",
    "###################################\n",
    "#---------------------------------------------------------------------------------------------------------------\n",
    "# SNR in dB = Es/No, where Es: Energy per symbol, No: Noise Power Spectral Density\n",
    "snr_dB = 7 \n",
    "# snr in linear scale\n",
    "snr_train = np.power(10,snr_dB/10) \n",
    "# noise standard deviation\n",
    "noise_stddev = np.sqrt(1/(2*R*snr_train))"
   ]
  },
  {
   "cell_type": "markdown",
   "id": "7050b7c4",
   "metadata": {},
   "source": [
    "## Training Data"
   ]
  },
  {
   "cell_type": "code",
   "execution_count": 4,
   "id": "6e586817",
   "metadata": {},
   "outputs": [
    {
     "name": "stdout",
     "output_type": "stream",
     "text": [
      "One-Hot Encodings of information symbols:\n",
      "\n",
      "[[1. 0. 0. 0. 0. 0. 0. 0. 0. 0. 0. 0. 0. 0. 0. 0.]\n",
      " [0. 1. 0. 0. 0. 0. 0. 0. 0. 0. 0. 0. 0. 0. 0. 0.]\n",
      " [0. 0. 1. 0. 0. 0. 0. 0. 0. 0. 0. 0. 0. 0. 0. 0.]\n",
      " [0. 0. 0. 1. 0. 0. 0. 0. 0. 0. 0. 0. 0. 0. 0. 0.]\n",
      " [0. 0. 0. 0. 1. 0. 0. 0. 0. 0. 0. 0. 0. 0. 0. 0.]\n",
      " [0. 0. 0. 0. 0. 1. 0. 0. 0. 0. 0. 0. 0. 0. 0. 0.]\n",
      " [0. 0. 0. 0. 0. 0. 1. 0. 0. 0. 0. 0. 0. 0. 0. 0.]\n",
      " [0. 0. 0. 0. 0. 0. 0. 1. 0. 0. 0. 0. 0. 0. 0. 0.]\n",
      " [0. 0. 0. 0. 0. 0. 0. 0. 1. 0. 0. 0. 0. 0. 0. 0.]\n",
      " [0. 0. 0. 0. 0. 0. 0. 0. 0. 1. 0. 0. 0. 0. 0. 0.]\n",
      " [0. 0. 0. 0. 0. 0. 0. 0. 0. 0. 1. 0. 0. 0. 0. 0.]\n",
      " [0. 0. 0. 0. 0. 0. 0. 0. 0. 0. 0. 1. 0. 0. 0. 0.]\n",
      " [0. 0. 0. 0. 0. 0. 0. 0. 0. 0. 0. 0. 1. 0. 0. 0.]\n",
      " [0. 0. 0. 0. 0. 0. 0. 0. 0. 0. 0. 0. 0. 1. 0. 0.]\n",
      " [0. 0. 0. 0. 0. 0. 0. 0. 0. 0. 0. 0. 0. 0. 1. 0.]\n",
      " [0. 0. 0. 0. 0. 0. 0. 0. 0. 0. 0. 0. 0. 0. 0. 1.]]\n"
     ]
    }
   ],
   "source": [
    "#############################################\n",
    "# One-hot embeddings of information symbols.\n",
    "#############################################\n",
    "# Each information symbol is mapped to a standard basis vector of dimension M\n",
    "\n",
    "symbol_encodings = np.eye(M) \n",
    "print(\"One-Hot Encodings of information symbols:\\n\")\n",
    "print(symbol_encodings)"
   ]
  },
  {
   "cell_type": "code",
   "execution_count": 5,
   "id": "5a62478c",
   "metadata": {},
   "outputs": [
    {
     "name": "stdout",
     "output_type": "stream",
     "text": [
      "[ 0  1  9 ...  8 13  8]\n"
     ]
    }
   ],
   "source": [
    "###############################################################################\n",
    "# Generating data samples of size N. Each sample can take values from 0 to M-1\n",
    "###############################################################################\n",
    "N  = 9600000\n",
    "#*********************************************************************************\n",
    "# use this value of N only for Constellation plot when using TSNE under (7,4) AE\n",
    "# N = 1500\n",
    "#*********************************************************************************\n",
    "# random indices for labeling information symbols\n",
    "train_label = np.random.randint(M,size=N)\n",
    "print(train_label)"
   ]
  },
  {
   "cell_type": "code",
   "execution_count": 6,
   "id": "6334175a",
   "metadata": {},
   "outputs": [
    {
     "name": "stdout",
     "output_type": "stream",
     "text": [
      "\n",
      "\n",
      "The shape of training data:\n",
      "(9600000, 16)\n"
     ]
    }
   ],
   "source": [
    "########################\n",
    "# Training data samples\n",
    "########################\n",
    "data = []\n",
    "for i in train_label:\n",
    "    temp = np.zeros(M)\n",
    "    temp[i] = 1\n",
    "    data.append(temp)\n",
    "# converting data in to a numpy array    \n",
    "train_data = np.array(data)\n",
    "print(\"\\n\")\n",
    "# Printing the shape of training data\n",
    "print(\"The shape of training data:\")\n",
    "print(train_data.shape)"
   ]
  },
  {
   "cell_type": "code",
   "execution_count": 7,
   "id": "04f271e6",
   "metadata": {},
   "outputs": [
    {
     "name": "stdout",
     "output_type": "stream",
     "text": [
      "[ 470109 1931495 8462352 5178934 3248794 7178125 6558540 6423621 5118237\n",
      " 3170137 7780153 4432076  839543]\n",
      "\n",
      "\n",
      "13 [0. 0. 0. 0. 0. 0. 0. 0. 0. 0. 0. 0. 0. 1. 0. 0.]\n",
      "13 [0. 0. 0. 0. 0. 0. 0. 0. 0. 0. 0. 0. 0. 1. 0. 0.]\n",
      "12 [0. 0. 0. 0. 0. 0. 0. 0. 0. 0. 0. 0. 1. 0. 0. 0.]\n",
      "3 [0. 0. 0. 1. 0. 0. 0. 0. 0. 0. 0. 0. 0. 0. 0. 0.]\n",
      "15 [0. 0. 0. 0. 0. 0. 0. 0. 0. 0. 0. 0. 0. 0. 0. 1.]\n",
      "8 [0. 0. 0. 0. 0. 0. 0. 0. 1. 0. 0. 0. 0. 0. 0. 0.]\n",
      "10 [0. 0. 0. 0. 0. 0. 0. 0. 0. 0. 1. 0. 0. 0. 0. 0.]\n",
      "14 [0. 0. 0. 0. 0. 0. 0. 0. 0. 0. 0. 0. 0. 0. 1. 0.]\n",
      "12 [0. 0. 0. 0. 0. 0. 0. 0. 0. 0. 0. 0. 1. 0. 0. 0.]\n",
      "12 [0. 0. 0. 0. 0. 0. 0. 0. 0. 0. 0. 0. 1. 0. 0. 0.]\n",
      "8 [0. 0. 0. 0. 0. 0. 0. 0. 1. 0. 0. 0. 0. 0. 0. 0.]\n",
      "11 [0. 0. 0. 0. 0. 0. 0. 0. 0. 0. 0. 1. 0. 0. 0. 0.]\n",
      "12 [0. 0. 0. 0. 0. 0. 0. 0. 0. 0. 0. 0. 1. 0. 0. 0.]\n"
     ]
    }
   ],
   "source": [
    "# Verifying training data with its label or index for 13 samples\n",
    "\n",
    "tempLabel_train = np.random.randint(N,size=13)\n",
    "print(tempLabel_train)\n",
    "print(\"\\n\")\n",
    "for i in tempLabel_train:\n",
    "    print(train_label[i],train_data[i])"
   ]
  },
  {
   "cell_type": "markdown",
   "id": "68dcaed2",
   "metadata": {},
   "source": [
    "## Testing Data"
   ]
  },
  {
   "cell_type": "code",
   "execution_count": 8,
   "id": "a3418e5a",
   "metadata": {},
   "outputs": [
    {
     "name": "stdout",
     "output_type": "stream",
     "text": [
      "The shape of test data is:\n",
      "(16000, 16)\n"
     ]
    }
   ],
   "source": [
    "###############################\n",
    "# Generating data for testing\n",
    "###############################\n",
    "N_test = 16000\n",
    "#**************************************************\n",
    "# use this only for Constellation Plot of (7,4) AE\n",
    "# N_test = 500\n",
    "#**************************************************\n",
    "test_label = np.random.randint(M,size=N_test)\n",
    "test_data = []\n",
    "for i in test_label:\n",
    "    temp    = np.zeros(M)\n",
    "    temp[i] = 1\n",
    "    test_data.append(temp)\n",
    "# converting it to a numpy array     \n",
    "test_data = np.array(test_data)\n",
    "# Printing the shape of test data\n",
    "print(\"The shape of test data is:\")\n",
    "print(test_data.shape)"
   ]
  },
  {
   "cell_type": "code",
   "execution_count": 9,
   "id": "f63aa712",
   "metadata": {},
   "outputs": [
    {
     "name": "stdout",
     "output_type": "stream",
     "text": [
      "[ 7316 10761  6606 15068 13182 10857 13890]\n",
      "\n",
      "\n",
      "8 [0. 0. 0. 0. 0. 0. 0. 0. 1. 0. 0. 0. 0. 0. 0. 0.]\n",
      "15 [0. 0. 0. 0. 0. 0. 0. 0. 0. 0. 0. 0. 0. 0. 0. 1.]\n",
      "12 [0. 0. 0. 0. 0. 0. 0. 0. 0. 0. 0. 0. 1. 0. 0. 0.]\n",
      "12 [0. 0. 0. 0. 0. 0. 0. 0. 0. 0. 0. 0. 1. 0. 0. 0.]\n",
      "14 [0. 0. 0. 0. 0. 0. 0. 0. 0. 0. 0. 0. 0. 0. 1. 0.]\n",
      "11 [0. 0. 0. 0. 0. 0. 0. 0. 0. 0. 0. 1. 0. 0. 0. 0.]\n",
      "13 [0. 0. 0. 0. 0. 0. 0. 0. 0. 0. 0. 0. 0. 1. 0. 0.]\n"
     ]
    }
   ],
   "source": [
    "# Verifying test data with its label for 7 sample\n",
    "tempTestLabel = np.random.randint(N_test,size=7)\n",
    "print(tempTestLabel)\n",
    "print(\"\\n\")\n",
    "for i in tempTestLabel:\n",
    "    print(test_label[i],test_data[i])\n"
   ]
  },
  {
   "cell_type": "markdown",
   "id": "c53b916a",
   "metadata": {},
   "source": [
    "## Normalization Functions"
   ]
  },
  {
   "cell_type": "code",
   "execution_count": 10,
   "id": "0716d720",
   "metadata": {},
   "outputs": [],
   "source": [
    "def normalizeAvgPower(x):\n",
    "    \"\"\" Normalizes the power of input tensor\"\"\"\n",
    "    return x/(be.sqrt(be.mean(x**2)))"
   ]
  },
  {
   "cell_type": "code",
   "execution_count": 11,
   "id": "84ec44be",
   "metadata": {},
   "outputs": [],
   "source": [
    "def normalizeEnergy(x):\n",
    "    \"\"\" Normalizes the energy of input tensor\"\"\"\n",
    "    return np.sqrt(n)*(be.l2_normalize(x,axis=-1))"
   ]
  },
  {
   "cell_type": "markdown",
   "id": "d746ef87",
   "metadata": {},
   "source": [
    "## Defining AutoEncoder Model"
   ]
  },
  {
   "cell_type": "code",
   "execution_count": 12,
   "id": "50876d80",
   "metadata": {},
   "outputs": [
    {
     "name": "stdout",
     "output_type": "stream",
     "text": [
      "Model: \"model\"\n",
      "_________________________________________________________________\n",
      " Layer (type)                Output Shape              Param #   \n",
      "=================================================================\n",
      " input_1 (InputLayer)        [(None, 16)]              0         \n",
      "                                                                 \n",
      " dense (Dense)               (None, 16)                272       \n",
      "                                                                 \n",
      " dense_1 (Dense)             (None, 7)                 119       \n",
      "                                                                 \n",
      " lambda (Lambda)             (None, 7)                 0         \n",
      "                                                                 \n",
      " gaussian_noise (GaussianNoi  (None, 7)                0         \n",
      " se)                                                             \n",
      "                                                                 \n",
      " dense_2 (Dense)             (None, 16)                128       \n",
      "                                                                 \n",
      " dense_3 (Dense)             (None, 16)                272       \n",
      "                                                                 \n",
      "=================================================================\n",
      "Total params: 791\n",
      "Trainable params: 791\n",
      "Non-trainable params: 0\n",
      "_________________________________________________________________\n",
      "None\n"
     ]
    }
   ],
   "source": [
    "##########################################\n",
    "# Defining AutoEncoder and its layers\n",
    "##########################################\n",
    "#----------------------------------------------------------------------------------------------------------------\n",
    "###########\n",
    "# Tx layer\n",
    "###########\n",
    "onehot  = Input(shape=(M,))\n",
    "dense1  = Dense(M, activation = 'relu')(onehot)\n",
    "dense2  = Dense(n, activation = 'linear')(dense1)\n",
    "x       = Lambda(normalizeAvgPower)(dense2)      # Avg power constraint\n",
    "# x       = Lambda(normalizeEnergy)(dense2)      # Energy constraint\n",
    "#****************************************************************************************\n",
    "################\n",
    "# Channel Layer\n",
    "################\n",
    "y       = GaussianNoise(stddev = noise_stddev)(x)\n",
    "#****************************************************************************************\n",
    "###########\n",
    "# Rx layer\n",
    "###########\n",
    "dense3  = Dense(M, activation = 'relu')(y)\n",
    "prob    = Dense(M, activation = 'softmax')(dense3) \n",
    "#-----------------------------------------------------------------------------------------------------------------\n",
    "#########################################\n",
    "# Defining end to end AutoEncoder Model\n",
    "#########################################\n",
    "autoEncoder = Model(onehot, prob)\n",
    "#-----------------------------------------------------------------------------------------------------------------\n",
    "# Instantiate optimizer\n",
    "adam        = Adam(learning_rate=0.01)\n",
    "# Instantiate Stochastic Gradient Descent Method\n",
    "sgd         = SGD(learning_rate=0.02)\n",
    "#-----------------------------------------------------------------------------------------------------------------\n",
    "# compile end to end model\n",
    "autoEncoder.compile(optimizer=adam, loss='categorical_crossentropy')\n",
    "#-----------------------------------------------------------------------------------------------------------------\n",
    "# printing summary of layers and its trainable parameters\n",
    "print(autoEncoder.summary())\n"
   ]
  },
  {
   "cell_type": "markdown",
   "id": "96eab5b1",
   "metadata": {},
   "source": [
    "In the following code snippet we show how to train an end to end AE by a call to `fit()` method specifying the training and validation data. We choose 50 `epochs` with a `batch_size` of 1024. One can vary these values to obtain a different trainable model."
   ]
  },
  {
   "cell_type": "markdown",
   "id": "7c9fb839",
   "metadata": {},
   "source": [
    "## Training AutoEncoder"
   ]
  },
  {
   "cell_type": "code",
   "execution_count": 13,
   "id": "308c84b2",
   "metadata": {},
   "outputs": [
    {
     "name": "stdout",
     "output_type": "stream",
     "text": [
      "Epoch 1/50\n",
      "1172/1172 [==============================] - 2s 2ms/step - loss: 0.0637 - val_loss: 2.3723e-06\n",
      "Epoch 2/50\n",
      "1172/1172 [==============================] - 2s 2ms/step - loss: 0.0016 - val_loss: 1.1986e-07\n",
      "Epoch 3/50\n",
      "1172/1172 [==============================] - 2s 2ms/step - loss: 0.0011 - val_loss: 7.2122e-09\n",
      "Epoch 4/50\n",
      "1172/1172 [==============================] - 2s 2ms/step - loss: 9.5119e-04 - val_loss: 0.0000e+00\n",
      "Epoch 5/50\n",
      "1172/1172 [==============================] - 2s 2ms/step - loss: 8.6385e-04 - val_loss: 0.0000e+00\n",
      "Epoch 6/50\n",
      "1172/1172 [==============================] - 2s 2ms/step - loss: 7.6675e-04 - val_loss: 0.0000e+00\n",
      "Epoch 7/50\n",
      "1172/1172 [==============================] - 2s 2ms/step - loss: 7.2859e-04 - val_loss: 0.0000e+00\n",
      "Epoch 8/50\n",
      "1172/1172 [==============================] - 2s 2ms/step - loss: 6.8370e-04 - val_loss: 0.0000e+00\n",
      "Epoch 9/50\n",
      "1172/1172 [==============================] - 2s 2ms/step - loss: 6.5677e-04 - val_loss: 0.0000e+00\n",
      "Epoch 10/50\n",
      "1172/1172 [==============================] - 2s 2ms/step - loss: 6.1999e-04 - val_loss: 0.0000e+00\n",
      "Epoch 11/50\n",
      "1172/1172 [==============================] - 2s 2ms/step - loss: 6.4536e-04 - val_loss: 0.0000e+00\n",
      "Epoch 12/50\n",
      "1172/1172 [==============================] - 2s 2ms/step - loss: 5.8064e-04 - val_loss: 0.0000e+00\n",
      "Epoch 13/50\n",
      "1172/1172 [==============================] - 2s 2ms/step - loss: 5.7910e-04 - val_loss: 0.0000e+00\n",
      "Epoch 14/50\n",
      "1172/1172 [==============================] - 2s 2ms/step - loss: 5.4400e-04 - val_loss: 0.0000e+00\n",
      "Epoch 15/50\n",
      "1172/1172 [==============================] - 2s 2ms/step - loss: 5.2845e-04 - val_loss: 0.0000e+00\n",
      "Epoch 16/50\n",
      "1172/1172 [==============================] - 2s 2ms/step - loss: 5.2113e-04 - val_loss: 0.0000e+00\n",
      "Epoch 17/50\n",
      "1172/1172 [==============================] - 2s 2ms/step - loss: 5.1256e-04 - val_loss: 0.0000e+00\n",
      "Epoch 18/50\n",
      "1172/1172 [==============================] - 2s 2ms/step - loss: 5.0105e-04 - val_loss: 0.0000e+00\n",
      "Epoch 19/50\n",
      "1172/1172 [==============================] - 2s 2ms/step - loss: 5.0285e-04 - val_loss: 0.0000e+00\n",
      "Epoch 20/50\n",
      "1172/1172 [==============================] - 2s 2ms/step - loss: 4.8465e-04 - val_loss: 0.0000e+00\n",
      "Epoch 21/50\n",
      "1172/1172 [==============================] - 2s 2ms/step - loss: 4.5733e-04 - val_loss: 0.0000e+00\n",
      "Epoch 22/50\n",
      "1172/1172 [==============================] - 2s 2ms/step - loss: 4.8978e-04 - val_loss: 0.0000e+00\n",
      "Epoch 23/50\n",
      "1172/1172 [==============================] - 2s 2ms/step - loss: 4.7650e-04 - val_loss: 0.0000e+00\n",
      "Epoch 24/50\n",
      "1172/1172 [==============================] - 2s 2ms/step - loss: 4.4017e-04 - val_loss: 0.0000e+00\n",
      "Epoch 25/50\n",
      "1172/1172 [==============================] - 2s 2ms/step - loss: 4.6087e-04 - val_loss: 0.0000e+00\n",
      "Epoch 26/50\n",
      "1172/1172 [==============================] - 2s 2ms/step - loss: 4.8227e-04 - val_loss: 0.0000e+00\n",
      "Epoch 27/50\n",
      "1172/1172 [==============================] - 2s 2ms/step - loss: 4.6779e-04 - val_loss: 0.0000e+00\n",
      "Epoch 28/50\n",
      "1172/1172 [==============================] - 2s 2ms/step - loss: 4.7611e-04 - val_loss: 0.0000e+00\n",
      "Epoch 29/50\n",
      "1172/1172 [==============================] - 2s 2ms/step - loss: 4.5994e-04 - val_loss: 0.0000e+00\n",
      "Epoch 30/50\n",
      "1172/1172 [==============================] - 2s 2ms/step - loss: 4.6745e-04 - val_loss: 0.0000e+00\n",
      "Epoch 31/50\n",
      "1172/1172 [==============================] - 2s 2ms/step - loss: 4.7241e-04 - val_loss: 0.0000e+00\n",
      "Epoch 32/50\n",
      "1172/1172 [==============================] - 2s 2ms/step - loss: 4.3366e-04 - val_loss: 0.0000e+00\n",
      "Epoch 33/50\n",
      "1172/1172 [==============================] - 2s 2ms/step - loss: 4.9394e-04 - val_loss: 0.0000e+00\n",
      "Epoch 34/50\n",
      "1172/1172 [==============================] - 2s 2ms/step - loss: 4.2512e-04 - val_loss: 0.0000e+00\n",
      "Epoch 35/50\n",
      "1172/1172 [==============================] - 2s 2ms/step - loss: 4.5282e-04 - val_loss: 0.0000e+00\n",
      "Epoch 36/50\n",
      "1172/1172 [==============================] - 2s 2ms/step - loss: 4.4458e-04 - val_loss: 0.0000e+00\n",
      "Epoch 37/50\n",
      "1172/1172 [==============================] - 2s 2ms/step - loss: 4.4346e-04 - val_loss: 0.0000e+00\n",
      "Epoch 38/50\n",
      "1172/1172 [==============================] - 2s 2ms/step - loss: 4.5355e-04 - val_loss: 0.0000e+00\n",
      "Epoch 39/50\n",
      "1172/1172 [==============================] - 2s 2ms/step - loss: 4.4745e-04 - val_loss: 0.0000e+00\n",
      "Epoch 40/50\n",
      "1172/1172 [==============================] - 2s 2ms/step - loss: 4.5213e-04 - val_loss: 0.0000e+00\n",
      "Epoch 41/50\n",
      "1172/1172 [==============================] - 2s 2ms/step - loss: 4.5800e-04 - val_loss: 0.0000e+00\n",
      "Epoch 42/50\n",
      "1172/1172 [==============================] - 2s 2ms/step - loss: 4.5492e-04 - val_loss: 0.0000e+00\n",
      "Epoch 43/50\n",
      "1172/1172 [==============================] - 2s 2ms/step - loss: 4.4039e-04 - val_loss: 0.0000e+00\n",
      "Epoch 44/50\n",
      "1172/1172 [==============================] - 2s 2ms/step - loss: 4.5172e-04 - val_loss: 0.0000e+00\n",
      "Epoch 45/50\n",
      "1172/1172 [==============================] - 2s 2ms/step - loss: 4.2594e-04 - val_loss: 0.0000e+00\n",
      "Epoch 46/50\n",
      "1172/1172 [==============================] - 2s 2ms/step - loss: 4.6101e-04 - val_loss: 0.0000e+00\n",
      "Epoch 47/50\n",
      "1172/1172 [==============================] - 2s 2ms/step - loss: 4.2696e-04 - val_loss: 0.0000e+00\n",
      "Epoch 48/50\n",
      "1172/1172 [==============================] - 2s 2ms/step - loss: 4.5471e-04 - val_loss: 0.0000e+00\n",
      "Epoch 49/50\n",
      "1172/1172 [==============================] - 2s 2ms/step - loss: 4.2490e-04 - val_loss: 0.0000e+00\n",
      "Epoch 50/50\n",
      "1172/1172 [==============================] - 2s 2ms/step - loss: 4.4338e-04 - val_loss: 0.0000e+00\n"
     ]
    },
    {
     "data": {
      "text/plain": [
       "<keras.callbacks.History at 0x7f40fde4a3d0>"
      ]
     },
     "execution_count": 13,
     "metadata": {},
     "output_type": "execute_result"
    }
   ],
   "source": [
    "#######################\n",
    "# Training Auto Encoder\n",
    "########################\n",
    "autoEncoder.fit(train_data, train_data,\n",
    "                epochs = 50,\n",
    "                batch_size = 8*1024,\n",
    "                validation_data=(test_data, test_data))"
   ]
  },
  {
   "cell_type": "markdown",
   "id": "a60fbcf9",
   "metadata": {},
   "source": [
    "## Defining Tx, Channel and Rx from Trained AutoEncoder"
   ]
  },
  {
   "cell_type": "code",
   "execution_count": 14,
   "id": "e438e00e",
   "metadata": {},
   "outputs": [],
   "source": [
    "########################################################\n",
    "# Defining Tx from end to end trained autoEncoder model\n",
    "#######################################################\n",
    "\n",
    "transmitter   = Model(onehot, x)\n",
    "#*********************************************************\n",
    "#######################\n",
    "# Defining channel part \n",
    "#######################\n",
    "channelInput  = Input(shape=(n,))\n",
    "channelOutput = autoEncoder.layers[-3](channelInput)\n",
    "channel       = Model(channelInput, channelOutput)\n",
    "#*********************************************************\n",
    "##################\n",
    "# Defining Rx part\n",
    "##################\n",
    "rxInput       = Input(shape=(n,))\n",
    "rx1           = autoEncoder.layers[-2](rxInput)\n",
    "rxOutput      = autoEncoder.layers[-1](rx1)\n",
    "receiver      = Model(rxInput,rxOutput)"
   ]
  },
  {
   "cell_type": "markdown",
   "id": "4e2fe2ef",
   "metadata": {},
   "source": [
    "## Block Error Rate (BLER) performance"
   ]
  },
  {
   "cell_type": "markdown",
   "id": "088b3f8a",
   "metadata": {},
   "source": [
    "The following code snippet computes and plots BLER performance of of `(n,k) AE` and compares it with base line `(n,k) Hamming code`.\n",
    "\n",
    "\n",
    "**Note:** Run the following code snippets only with high values of `N`, `N_test`. Comment all the following code snippet for constellation plots. Uncomment only for BLER plots"
   ]
  },
  {
   "cell_type": "code",
   "execution_count": 15,
   "id": "3e2fdbf3",
   "metadata": {},
   "outputs": [
    {
     "name": "stdout",
     "output_type": "stream",
     "text": [
      "500/500 [==============================] - 0s 346us/step\n",
      "500/500 [==============================] - 0s 377us/step\n",
      "SNR(dB): -4.0 BLER: 0.4993125\n",
      "500/500 [==============================] - 0s 327us/step\n",
      "500/500 [==============================] - 0s 348us/step\n",
      "SNR(dB): -3.5 BLER: 0.4599375\n",
      "500/500 [==============================] - 0s 322us/step\n",
      "500/500 [==============================] - 0s 340us/step\n",
      "SNR(dB): -3.0 BLER: 0.422875\n",
      "500/500 [==============================] - 0s 342us/step\n",
      "500/500 [==============================] - 0s 336us/step\n",
      "SNR(dB): -2.5 BLER: 0.3785625\n",
      "500/500 [==============================] - 0s 324us/step\n",
      "500/500 [==============================] - 0s 370us/step\n",
      "SNR(dB): -2.0 BLER: 0.345\n",
      "500/500 [==============================] - 0s 308us/step\n",
      "500/500 [==============================] - 0s 345us/step\n",
      "SNR(dB): -1.5 BLER: 0.2955\n",
      "500/500 [==============================] - 0s 305us/step\n",
      "500/500 [==============================] - 0s 344us/step\n",
      "SNR(dB): -1.0 BLER: 0.25825\n",
      "500/500 [==============================] - 0s 313us/step\n",
      "500/500 [==============================] - 0s 357us/step\n",
      "SNR(dB): -0.5 BLER: 0.2233125\n",
      "500/500 [==============================] - 0s 328us/step\n",
      "500/500 [==============================] - 0s 349us/step\n",
      "SNR(dB): 0.0 BLER: 0.1851875\n",
      "500/500 [==============================] - 0s 316us/step\n",
      "500/500 [==============================] - 0s 354us/step\n",
      "SNR(dB): 0.5 BLER: 0.152625\n",
      "500/500 [==============================] - 0s 331us/step\n",
      "500/500 [==============================] - 0s 355us/step\n",
      "SNR(dB): 1.0 BLER: 0.1163125\n",
      "500/500 [==============================] - 0s 313us/step\n",
      "500/500 [==============================] - 0s 353us/step\n",
      "SNR(dB): 1.5 BLER: 0.0896875\n",
      "500/500 [==============================] - 0s 339us/step\n",
      "500/500 [==============================] - 0s 343us/step\n",
      "SNR(dB): 2.0 BLER: 0.0639375\n",
      "500/500 [==============================] - 0s 286us/step\n",
      "500/500 [==============================] - 0s 353us/step\n",
      "SNR(dB): 2.5 BLER: 0.0451875\n",
      "500/500 [==============================] - 0s 333us/step\n",
      "500/500 [==============================] - 0s 359us/step\n",
      "SNR(dB): 3.0 BLER: 0.0328125\n",
      "500/500 [==============================] - 0s 311us/step\n",
      "500/500 [==============================] - 0s 329us/step\n",
      "SNR(dB): 3.5 BLER: 0.0213125\n",
      "500/500 [==============================] - 0s 318us/step\n",
      "500/500 [==============================] - 0s 334us/step\n",
      "SNR(dB): 4.0 BLER: 0.013625\n",
      "500/500 [==============================] - 0s 299us/step\n",
      "500/500 [==============================] - 0s 351us/step\n",
      "SNR(dB): 4.5 BLER: 0.0075\n",
      "500/500 [==============================] - 0s 320us/step\n",
      "500/500 [==============================] - 0s 361us/step\n",
      "SNR(dB): 5.0 BLER: 0.00375\n",
      "500/500 [==============================] - 0s 359us/step\n",
      "500/500 [==============================] - 0s 350us/step\n",
      "SNR(dB): 5.5 BLER: 0.001625\n",
      "500/500 [==============================] - 0s 299us/step\n",
      "500/500 [==============================] - 0s 360us/step\n",
      "SNR(dB): 6.0 BLER: 0.000875\n",
      "500/500 [==============================] - 0s 316us/step\n",
      "500/500 [==============================] - 0s 363us/step\n",
      "SNR(dB): 6.5 BLER: 0.00075\n",
      "500/500 [==============================] - 0s 357us/step\n",
      "500/500 [==============================] - 0s 346us/step\n",
      "SNR(dB): 7.0 BLER: 0.000125\n",
      "500/500 [==============================] - 0s 315us/step\n",
      "500/500 [==============================] - 0s 338us/step\n",
      "SNR(dB): 7.5 BLER: 0.0\n",
      "500/500 [==============================] - 0s 305us/step\n",
      "500/500 [==============================] - 0s 350us/step\n",
      "SNR(dB): 8.0 BLER: 0.0\n"
     ]
    }
   ],
   "source": [
    "#######################################\n",
    "# SNR vs BLER computation and plotting\n",
    "#######################################\n",
    "# use this snr_dB = np.arange(0,15,2) for (n,k) = (2,4) or (2,2) AE\n",
    "# use this snr_dB = np.arange(-4,8.5,0.5) for (7,4) AE \n",
    "\n",
    "snr_dB = np.arange(-4,8.5,0.5)\n",
    "bler   = np.zeros(snr_dB.shape[0])\n",
    "for ii in range(0,snr_dB.shape[0]):\n",
    "    snr_linear      = 10.0**(snr_dB[ii]/10.0)      # snr in linear scale\n",
    "    noise_std       = np.sqrt(1/(2*R*snr_linear))\n",
    "    noise_mean      = 0\n",
    "    num_errors      = 0\n",
    "    num_samples     = N_test \n",
    "    #-------------------------------------------------------------\n",
    "    noise           = noise_std*np.random.randn(num_samples,n)\n",
    "    #-------------------------------------------------------------\n",
    "    #########################\n",
    "    # predicted input symbols\n",
    "    #########################\n",
    "    x_hat           = transmitter.predict(test_data)\n",
    "    #-------------------------------------------------------------\n",
    "    ##############\n",
    "    # noisy input\n",
    "    ##############\n",
    "    x_hat_noisy     = x_hat + noise\n",
    "    #-------------------------------------------------------------\n",
    "    ##########################\n",
    "    # predicted output symbols\n",
    "    ##########################\n",
    "    y_hat           = receiver.predict(x_hat_noisy)\n",
    "    #-------------------------------------------------------------\n",
    "    ##################\n",
    "    # symbol estimates\n",
    "    ##################\n",
    "    sym_estimates   = np.argmax(y_hat, axis=1) \n",
    "    #-------------------------------------------------------------\n",
    "    #################################################\n",
    "    # counting errors and computing bler at each snr\n",
    "    #################################################\n",
    "    num_errors      = int(np.sum(sym_estimates != test_label))    \n",
    "    bler[ii]        = num_errors/num_samples\n",
    "    print('SNR(dB):', snr_dB[ii], 'BLER:', bler[ii])\n",
    "    "
   ]
  },
  {
   "cell_type": "markdown",
   "id": "c77336e4",
   "metadata": {},
   "source": [
    "## Hamming Codes"
   ]
  },
  {
   "cell_type": "markdown",
   "id": "d31167ef",
   "metadata": {},
   "source": [
    "### Importing necessary libraries"
   ]
  },
  {
   "cell_type": "code",
   "execution_count": 16,
   "id": "0a9a8229",
   "metadata": {},
   "outputs": [],
   "source": [
    "from toolkit5G.SymbolMapping import Demapper\n",
    "from toolkit5G.SymbolMapping import Mapper\n",
    "from toolkit5G.ChannelCoder  import HammingEncoder\n",
    "from toolkit5G.ChannelCoder  import HammingDecoder"
   ]
  },
  {
   "cell_type": "markdown",
   "id": "961ddc7f",
   "metadata": {},
   "source": [
    "### Transmitter"
   ]
  },
  {
   "cell_type": "code",
   "execution_count": 17,
   "id": "41b719fd",
   "metadata": {},
   "outputs": [
    {
     "name": "stdout",
     "output_type": "stream",
     "text": [
      "\n",
      "******** (7,4) Hamming Code ********\n",
      "       Shape of Input:(1000000, 4)\n",
      "    Shape of Enc Bits:(1000000, 7)\n",
      "   Constellation type: bpsk\n",
      "Number of bits/symbol: 1\n",
      "*********************************\n",
      "\n"
     ]
    }
   ],
   "source": [
    "##############################\n",
    "## Hamming Code Configurations\n",
    "##############################\n",
    "## (n,k) code for any random positive integer m\n",
    "m = 3            \n",
    "k = 2**m - m - 1\n",
    "n = 2**m - 1\n",
    "#------------------------------------------------\n",
    "## Payload Generation\n",
    "numDim = 2\n",
    "n1     = 1000000\n",
    "bits   = np.random.randint(2, size = (n1,k))\n",
    "\n",
    "#-------------------------------------------------\n",
    "## Hamming Encoder\n",
    "encBits = HammingEncoder(k,n)(bits)\n",
    "\n",
    "## Rate Matching\n",
    "codeword = encBits\n",
    "\n",
    "## Symbol Mapping\n",
    "constellation_type  = \"bpsk\"\n",
    "num_bits_per_symbol = 1\n",
    "\n",
    "mapperObject        = Mapper(constellation_type, num_bits_per_symbol)\n",
    "symbols             = mapperObject(codeword)\n",
    "\n",
    "print()\n",
    "print(\"******** (\"+str(n)+\",\"+str(k)+\") Hamming Code ********\")\n",
    "print(\"       Shape of Input:\"+str(bits.shape))\n",
    "print(\"    Shape of Enc Bits:\"+str(encBits.shape))\n",
    "print(\"   Constellation type: \"+str(constellation_type))\n",
    "print(\"Number of bits/symbol: \"+str(num_bits_per_symbol))\n",
    "print(\"*********************************\")\n",
    "print()"
   ]
  },
  {
   "cell_type": "code",
   "execution_count": 18,
   "id": "ca52d05d",
   "metadata": {},
   "outputs": [
    {
     "name": "stdout",
     "output_type": "stream",
     "text": [
      "At SNR(dB): -4.0 | coded BLER (soft): 0.487356 | coded BLER(hard): 0.555567\n",
      "At SNR(dB): -3.5 | coded BLER (soft): 0.451116 | coded BLER(hard): 0.523247\n",
      "At SNR(dB): -3.0 | coded BLER (soft): 0.413188 | coded BLER(hard): 0.488804\n",
      "At SNR(dB): -2.5 | coded BLER (soft): 0.374117 | coded BLER(hard): 0.454112\n",
      "At SNR(dB): -2.0 | coded BLER (soft): 0.334626 | coded BLER(hard): 0.41793\n",
      "At SNR(dB): -1.5 | coded BLER (soft): 0.294037 | coded BLER(hard): 0.378983\n",
      "At SNR(dB): -1.0 | coded BLER (soft): 0.254819 | coded BLER(hard): 0.340943\n",
      "At SNR(dB): -0.5 | coded BLER (soft): 0.215494 | coded BLER(hard): 0.300886\n",
      "At SNR(dB): 0.0 | coded BLER (soft): 0.178729 | coded BLER(hard): 0.262009\n",
      "At SNR(dB): 0.5 | coded BLER (soft): 0.144913 | coded BLER(hard): 0.224729\n",
      "At SNR(dB): 1.0 | coded BLER (soft): 0.114015 | coded BLER(hard): 0.188273\n",
      "At SNR(dB): 1.5 | coded BLER (soft): 0.086872 | coded BLER(hard): 0.154788\n",
      "At SNR(dB): 2.0 | coded BLER (soft): 0.063531 | coded BLER(hard): 0.123273\n",
      "At SNR(dB): 2.5 | coded BLER (soft): 0.045049 | coded BLER(hard): 0.095691\n",
      "At SNR(dB): 3.0 | coded BLER (soft): 0.030146 | coded BLER(hard): 0.072152\n",
      "At SNR(dB): 3.5 | coded BLER (soft): 0.019569 | coded BLER(hard): 0.052696\n",
      "At SNR(dB): 4.0 | coded BLER (soft): 0.011867 | coded BLER(hard): 0.036508\n",
      "At SNR(dB): 4.5 | coded BLER (soft): 0.006773 | coded BLER(hard): 0.024273\n",
      "At SNR(dB): 5.0 | coded BLER (soft): 0.003632 | coded BLER(hard): 0.015735\n",
      "At SNR(dB): 5.5 | coded BLER (soft): 0.001723 | coded BLER(hard): 0.009492\n",
      "At SNR(dB): 6.0 | coded BLER (soft): 0.000786 | coded BLER(hard): 0.005436\n",
      "At SNR(dB): 6.5 | coded BLER (soft): 0.000311 | coded BLER(hard): 0.002855\n",
      "At SNR(dB): 7.0 | coded BLER (soft): 0.000128 | coded BLER(hard): 0.001428\n",
      "At SNR(dB): 7.5 | coded BLER (soft): 4.2e-05 | coded BLER(hard): 0.000651\n",
      "At SNR(dB): 8.0 | coded BLER (soft): 1.2e-05 | coded BLER(hard): 0.000265\n"
     ]
    }
   ],
   "source": [
    "######################################\n",
    "# (7,4) Hamming code BLER performance\n",
    "######################################\n",
    "\n",
    "SNR  = 10**(snr_dB/10)  # SNR in linear scale\n",
    "\n",
    "codedBLERhard = np.zeros(SNR.shape)\n",
    "codedBLERsoft = np.zeros(SNR.shape)\n",
    "\n",
    "## Symbol Demapping\n",
    "# demapping_method = str(np.random.choice([\"app\", \"maxlog\"]))\n",
    "# hard_out         = bool(np.random.choice([False, True]))\n",
    "demapping_method = \"app\"\n",
    "hard_out         = False\n",
    "\n",
    "demapper         = Demapper(demapping_method, constellation_type, \n",
    "                            num_bits_per_symbol, hard_out = hard_out)\n",
    "\n",
    "\n",
    "snrIndex = 0\n",
    "for snr in SNR:\n",
    "    symbs = symbols + np.sqrt(0.5/R/snr)*(np.random.standard_normal(size=symbols.shape)+1j*np.random.standard_normal(size=symbols.shape)).astype(np.complex64)\n",
    "\n",
    "    llrEst  = demapper([symbs, np.float32(1/snr)])\n",
    "    uncBits = np.where(llrEst > 0, np.int8(1), np.int8(0))\n",
    "        \n",
    "    decoder = HammingDecoder(k,n)\n",
    "    decBits = decoder(uncBits)\n",
    "    \n",
    "    codedBLERhard[snrIndex]= np.mean(np.where(np.sum(np.abs(bits-decBits), axis=1)>0, True, False))\n",
    "    \n",
    "    decoder = HammingDecoder(k,n)\n",
    "    decBits = decoder(llrEst, \"sphereDecoding\")\n",
    "    \n",
    "    codedBLERsoft[snrIndex]= np.mean(np.where(np.sum(np.abs(bits-decBits), axis=1)>0, True, False))\n",
    "    \n",
    "    print(\"At SNR(dB): \"+str(snr_dB[snrIndex])+\" | coded BLER (soft): \"+str(codedBLERsoft[snrIndex])+\" | coded BLER(hard): \"+str(codedBLERhard[snrIndex]))\n",
    "\n",
    "    snrIndex += 1\n",
    "    "
   ]
  },
  {
   "cell_type": "markdown",
   "id": "f0cb491f",
   "metadata": {},
   "source": [
    "### BLER plot : comparison of AutoEncoder BLER with base line (n,k) Hamming Code BLER"
   ]
  },
  {
   "cell_type": "code",
   "execution_count": 19,
   "id": "52ddd590",
   "metadata": {},
   "outputs": [
    {
     "data": {
      "application/vnd.jupyter.widget-view+json": {
       "model_id": "61f58ca3edc14db5b30e120e340fe170",
       "version_major": 2,
       "version_minor": 0
      },
      "image/png": "[encoded data removed]",
      "text/html": [
       "\n",
       "            <div style=\"display: inline-block;\">\n",
       "                <div class=\"jupyter-widgets widget-label\" style=\"text-align: center;\">\n",
       "                    Figure\n",
       "                </div>\n",
       "                <img src='data:image/png;base64,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' width=640.0/>\n",
       "            </div>\n",
       "        "
      ],
      "text/plain": [
       "Canvas(toolbar=Toolbar(toolitems=[('Home', 'Reset original view', 'home', 'home'), ('Back', 'Back to previous …"
      ]
     },
     "metadata": {},
     "output_type": "display_data"
    }
   ],
   "source": [
    "# ploting BLER \n",
    "fig, ax = plt.subplots()\n",
    "\n",
    "ax.semilogy(snr_dB, codedBLERsoft, 'tomato', lw = 3.5, linestyle = (0, (3, 1, 1, 1, 1, 1)), marker = \"s\", ms = 6, mec = \"k\", mfc = \"cyan\", label = \"coded BER [Soft]\")\n",
    "ax.semilogy(snr_dB, codedBLERhard, 'k', lw = 3, linestyle = (0, (3, 1, 1, 1, 1, 1)), marker = \"X\", ms = 9, mec = \"green\", mfc = \"olive\", label = \"coded BER [Hard]\")\n",
    "ax.semilogy(snr_dB, bler, 'y', lw = 3, linestyle = (0, (3, 1, 1, 1, 1, 1)), marker = \"+\", ms = 9, mec = \"blue\", mfc = \"pink\", label = \"AutoEncoder(n,k)\")\n",
    "ax.legend()\n",
    "ax.set_xticks(snr_dB)\n",
    "ax.grid()\n",
    "ax.set_ylabel(\"Block Error Rate\")\n",
    "ax.set_xlabel(\"SNR (dB)\")\n",
    "\n",
    "plt.show()"
   ]
  },
  {
   "cell_type": "markdown",
   "id": "9413e417",
   "metadata": {},
   "source": [
    "## Constellation Learning"
   ]
  },
  {
   "cell_type": "markdown",
   "id": "9f9718ba",
   "metadata": {},
   "source": [
    "The following cells provide the code to generate and plot the learned constellation by Tx in the presence of AWGN.\n",
    "\n",
    "\n",
    "**Note:** we have to go back to the previous steps to change the values of `N`,`N_test` and `retrain the AE` to plot a constellation for `(7,4) AE` as it uses `TSNE`. For other cases such as (2,4) and (2,2) we can use same `N`,`N_test` for BLER and constellation plots."
   ]
  },
  {
   "cell_type": "code",
   "execution_count": 20,
   "id": "a6132943",
   "metadata": {},
   "outputs": [],
   "source": [
    "# #################################################################################\n",
    "# # predicting the learned constellation for a given number of information symbols M\n",
    "# #################################################################################\n",
    "# constellationPoints = transmitter.predict(symbol_encodings)\n",
    "# print(\"\\n\")\n",
    "# print(constellationPoints)\n",
    "# print(\"\\n\")\n",
    "# print(\"Shape of learned constellation:\" + str(constellationPoints.shape))"
   ]
  },
  {
   "cell_type": "markdown",
   "id": "15777d27",
   "metadata": {},
   "source": [
    "### learned constellation plot"
   ]
  },
  {
   "cell_type": "code",
   "execution_count": 21,
   "id": "0665a0d5",
   "metadata": {},
   "outputs": [
    {
     "name": "stdout",
     "output_type": "stream",
     "text": [
      "1/1 [==============================] - 0s 26ms/step\n"
     ]
    },
    {
     "data": {
      "application/vnd.jupyter.widget-view+json": {
       "model_id": "4de0903d824147eb9996865e522c4b12",
       "version_major": 2,
       "version_minor": 0
      },
      "image/png": "[encoded data removed]",
      "text/html": [
       "\n",
       "            <div style=\"display: inline-block;\">\n",
       "                <div class=\"jupyter-widgets widget-label\" style=\"text-align: center;\">\n",
       "                    Figure\n",
       "                </div>\n",
       "                <img src='data:image/png;base64,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' width=640.0/>\n",
       "            </div>\n",
       "        "
      ],
      "text/plain": [
       "Canvas(toolbar=Toolbar(toolitems=[('Home', 'Reset original view', 'home', 'home'), ('Back', 'Back to previous …"
      ]
     },
     "metadata": {},
     "output_type": "display_data"
    }
   ],
   "source": [
    "###################################################################################\n",
    "# plotting learned constellation under energy constraint for (n,k) = (2,4) or (2,2)\n",
    "###################################################################################\n",
    "constellationPoints = transmitter.predict(symbol_encodings)\n",
    "r = np.linalg.norm(constellationPoints[0])\n",
    "theta = np.linspace(0,2*np.pi,200)\n",
    "fig, ax = plt.subplots()\n",
    "ax.scatter(constellationPoints[:,0],constellationPoints[:,1])\n",
    "ax.plot(r*np.cos(theta),r*np.sin(theta), c=\"green\", alpha = 0.1, marker=\".\")\n",
    "plt.axis((-2.5,2.5,-2.5,2.5))\n",
    "plt.grid()\n",
    "plt.xlabel('I Axis')\n",
    "plt.ylabel('Q Axis')\n",
    "plt.show()"
   ]
  },
  {
   "cell_type": "code",
   "execution_count": 22,
   "id": "0d5edc2f",
   "metadata": {},
   "outputs": [
    {
     "data": {
      "application/vnd.jupyter.widget-view+json": {
       "model_id": "13001bc63547436595c401cc9aec9578",
       "version_major": 2,
       "version_minor": 0
      },
      "image/png": "[encoded data removed]",
      "text/html": [
       "\n",
       "            <div style=\"display: inline-block;\">\n",
       "                <div class=\"jupyter-widgets widget-label\" style=\"text-align: center;\">\n",
       "                    Figure\n",
       "                </div>\n",
       "                <img src='data:image/png;base64,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' width=640.0/>\n",
       "            </div>\n",
       "        "
      ],
      "text/plain": [
       "Canvas(toolbar=Toolbar(toolitems=[('Home', 'Reset original view', 'home', 'home'), ('Back', 'Back to previous …"
      ]
     },
     "metadata": {},
     "output_type": "display_data"
    }
   ],
   "source": [
    "##########################################################################################\n",
    "# plotting learned constellation under average power constraint for (n,k) = (2,4) or (2,2)\n",
    "##########################################################################################\n",
    "\n",
    "fig, ax = plt.subplots()\n",
    "ax.scatter(constellationPoints[:,0],constellationPoints[:,1])\n",
    "plt.axis((-2.5,2.5,-2.5,2.5))\n",
    "plt.grid()\n",
    "plt.xlabel('I Axis')\n",
    "plt.ylabel('Q Axis')\n",
    "plt.show()"
   ]
  },
  {
   "cell_type": "markdown",
   "id": "469b9919",
   "metadata": {},
   "source": [
    "The following code snippet use TSNE to reduce the dimension of constellation for `(n,k) = (7,4)` "
   ]
  },
  {
   "cell_type": "code",
   "execution_count": 23,
   "id": "50d2a0fe",
   "metadata": {},
   "outputs": [],
   "source": [
    "# ###########################################################################################################\n",
    "# # Using sklearn T-distributed Stochastic Neighbor Embedding (TSNE) to reduce the dimension of constellation\n",
    "# ###########################################################################################################\n",
    "# num_samples = N_test \n",
    "\n",
    "# noise       = noise_stddev*np.random.randn(num_samples,n)\n",
    "# X           = transmitter.predict(test_data)\n",
    "# X_noisy     = X + noise\n",
    "\n",
    "# X_embedded  = TSNE(n_components=2, learning_rate='auto', n_iter = 35000, random_state = 0, perplexity=60).fit_transform(X_noisy)\n",
    "# X_embedded  = X_embedded/n"
   ]
  },
  {
   "cell_type": "code",
   "execution_count": 24,
   "id": "2455ed7f",
   "metadata": {},
   "outputs": [],
   "source": [
    "# ####################################################################################\n",
    "# # plotting higher dimensional received constellation in lower dimensions for (7,4) AE\n",
    "# ####################################################################################\n",
    "# fig, ax = plt.subplots()\n",
    "# ax.scatter(X_embedded[:,0],X_embedded[:,1], marker = \".\")\n",
    "# plt.axis((-2,2,-2,2))\n",
    "# plt.grid()\n",
    "# plt.xlabel('I Axis')\n",
    "# plt.ylabel('Q Axis')\n",
    "# plt.show()"
   ]
  },
  {
   "cell_type": "markdown",
   "id": "9736dc12",
   "metadata": {},
   "source": [
    "#### For (n,k) = (2,4) or (2,2) AutoEncoders"
   ]
  },
  {
   "cell_type": "markdown",
   "id": "2ec1db09",
   "metadata": {},
   "source": [
    "\n",
    "It turns out that under M = 16 and with an `energy constraint`, `(2,4) AE` learns a constellation which resemble `16-ary PSK` and with `power constraint` it learns a constellation which resemble `16-ary APSK`."
   ]
  },
  {
   "cell_type": "markdown",
   "id": "fa4482a6",
   "metadata": {},
   "source": [
    "## References\n"
   ]
  },
  {
   "cell_type": "markdown",
   "id": "a303b219",
   "metadata": {},
   "source": [
    "[1] T. O’Shea and J. Hoydis, \"An Introduction to Deep Learning for the Physical Layer,\" in IEEE Transactions on \n",
    "Cognitive Communications and Networking, vol. 3, no. 4, pp. 563-575, Dec. 2017, doi: 10.1109/TCCN.2017.2758370."
   ]
  }
 ],
 "metadata": {
  "kernelspec": {
   "display_name": "Python 3 (ipykernel)",
   "language": "python",
   "name": "python3"
  },
  "language_info": {
   "codemirror_mode": {
    "name": "ipython",
    "version": 3
   },
   "file_extension": ".py",
   "mimetype": "text/x-python",
   "name": "python",
   "nbconvert_exporter": "python",
   "pygments_lexer": "ipython3",
   "version": "3.11.0"
  }
 },
 "nbformat": 4,
 "nbformat_minor": 5
}
