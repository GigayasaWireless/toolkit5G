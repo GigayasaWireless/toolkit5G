{
 "cells": [
  {
   "cell_type": "markdown",
   "id": "11d223f3",
   "metadata": {},
   "source": [
    "# Constellation Learning in an AWGN Channel\n",
    "\n",
    "In this notebook, we will learn how to implement an end-to-end digital communication system as an `AutoEncoder`[1] and compared its performance with a `(n,k) Hamming Code`. \n",
    "\n",
    " * We analyze the performance of an autoencoder based modeling of a communication system as opposed to                  traditional modeling, where designing signal alphabet at transmitter (Tx) and detection algorithms at    receiver    (Rx) are based on a given mathematical/statistical channel/system model.\n",
    " \n",
    "\n",
    " * We simulate the performance of an AutoEncoder based communication link in the presence of Additive White Gaussian    Noise (AWGN), where Tx sends one out of ``M`` message/information symbols per `n` channel uses through a noisy      channel and the Rx estimates the transmitted symbols through noisy observations.\n",
    " \n",
    "\n",
    "* `The goal is to learn a signalling alphabet/constellation scheme that is robust with respect to the noise            introduced by the channel at Tx`\n",
    "\n",
    "\n",
    "\n",
    " ## Table of Contents\n",
    "\n",
    "* [Importing Libraries](#import-libraries)\n",
    "* [Parameters of AE](#AE-parameters)\n",
    "* [Training Data](#training-data-set)\n",
    "* [Testing Data](#testing-data-set)\n",
    "* [Normalization Functions](#norm-func)\n",
    "* [Defining AE Model](#AE-model)\n",
    "* [Training AE](#AE-training)\n",
    "* [Defining Tx, Channel and Rx from Trained AE](#individual-model)\n",
    "* [Constellation Learning](#constellation-learning)\n",
    "* [Block Error Rate (BLER) performance](#BLER)\n",
    "* [References](#ref)\n",
    "\n",
    "\n",
    "\n",
    "\n",
    "\n",
    "\n",
    "\n"
   ]
  },
  {
   "cell_type": "markdown",
   "id": "0542af65",
   "metadata": {},
   "source": [
    "### PHY layer as AutoEncoder"
   ]
  },
  {
   "cell_type": "markdown",
   "id": "2d7adf74",
   "metadata": {},
   "source": [
    "* The fundamental idea behind this tutorial is to model Physical Layer as an ``AutoEncoder``(AE).\n",
    "\n",
    "\n",
    "* An ``AutoEncoder``(AE) is an Artificial Neural Network (ANN) used to learn an efficient representation of data at   an intermediate layer to reproduce the input at its output.\n",
    "\n",
    "\n",
    "* We Interpret end to end communication link, i.e., Tx, channel, and Rx as a single Neural Network (NN) that can be   trained as an AE which reconstructs its input at its output, as communication is all about                           reproducing/reconstructing messages transmitted by Tx at Rx faithfully in the presence of channel perturbations     and Rx noise."
   ]
  },
  {
   "cell_type": "markdown",
   "id": "53b6df87",
   "metadata": {},
   "source": [
    "### Steps"
   ]
  },
  {
   "cell_type": "markdown",
   "id": "c8e89aa8",
   "metadata": {},
   "source": [
    "Following are the steps that we follow in simulation:\n",
    "\n",
    "* Define the hyper parameters of AE :\n",
    "    - number of information symbols `M`, where each symbol carry `k`bits\n",
    "    \n",
    "    - number of channel uses `n`\n",
    "    \n",
    "    - snr in dB at which AE is being trained, which we call `snr_train`\n",
    "    \n",
    "    \n",
    "    \n",
    "* Define embedings for each information symbol that is to be fed as an input to AE.\n",
    "\n",
    "\n",
    "* Define training and testing data set by randomizing the label\n",
    "\n",
    "\n",
    "* Define end to end AutoEncoder by using the already imported `keras` built in layers.\n",
    "\n",
    "    - Tx is being implmented as a stack of two keras `Dense` layers one with `ReLU` activation and another with           `linear` activation. The output of the second Dense layer is fed to a normalization layer which we implement         using keras `Lambda` layer.\n",
    "    \n",
    "    - Channel is implemented as a single `Noise` layer with certain noise standard deviation, which is a function of       both Rate of the code (R) and snr_train.\n",
    "    \n",
    "    - Rx also consists of two keras Dense layers, one with `ReLU` activation and the last one with `softmax`               activation. The last layer must output probabilities (i.e., for a given received noisy vector **v** of               dimension M, it outputs max aposteriori probability vector of dimension M, i.e.,                                     max(prob(**w**|**v**)) for any **w** belongs to transmitted oneshot embeddings)\n",
    "\n",
    "**Note:**  We choose different values of number of training (`N`) and testing samples (`N_test`) for constellation plots and for BlockErrorRate (BLER) plots.\n",
    "\n",
    "\n",
    "**Note:** For `(n,k) = (7,4)`, we use `sklearn T-distributed Stochastic Neighbor Embedding (TSNE)` to plot the learned constellation. Typically we use less number of `N` and `N_test` in such cases.\n",
    "For BLER plots we always go with high values of `N`, `N_test`   "
   ]
  },
  {
   "cell_type": "markdown",
   "id": "fe2a8e66",
   "metadata": {},
   "source": [
    "![title](img/autoencoder.png)"
   ]
  },
  {
   "cell_type": "markdown",
   "id": "d4d19db8",
   "metadata": {},
   "source": [
    "## Importing Libraries"
   ]
  },
  {
   "cell_type": "code",
   "execution_count": 1,
   "id": "89d74c54",
   "metadata": {},
   "outputs": [],
   "source": [
    "import os\n",
    "os.environ[\"CUDA_VISIBLE_DEVICES\"] = \"-1\"\n",
    "os.environ['TF_CPP_MIN_LOG_LEVEL'] = '3' \n",
    "\n",
    "\n",
    "# Importing necessary Numpy, Matplotlib, TensorFlow, Keras and scikit-learn modules\n",
    "%matplotlib widget\n",
    "# %matplotlib inline\n",
    "import matplotlib.pyplot as plt\n",
    "import numpy as np\n",
    "import tensorflow as tf\n",
    "from keras.layers import Input, Dense, GaussianNoise, Lambda, BatchNormalization\n",
    "from keras.models import Model\n",
    "from keras.optimizers import Adam, SGD\n",
    "from keras import backend as be"
   ]
  },
  {
   "cell_type": "markdown",
   "id": "60b5e0f2",
   "metadata": {},
   "source": [
    "The following code cell defines the parametes of an AutoEncoder including the `snr_dB` at which it is being trained.\n",
    "We assume (n,k) = (7,4) here but the code is generailized to support other configurations as well such as (2,4) and (2,2) given in [1] "
   ]
  },
  {
   "cell_type": "markdown",
   "id": "2fd91691",
   "metadata": {},
   "source": [
    "## Parameters of AutoEncoder"
   ]
  },
  {
   "cell_type": "code",
   "execution_count": 2,
   "id": "ef446c0a",
   "metadata": {},
   "outputs": [
    {
     "name": "stdout",
     "output_type": "stream",
     "text": [
      "###################################################################################################\n",
      "Parameters of (7, 4) AutoEncoder are:\n",
      "\n",
      "Number of Information Symbols:16\n",
      "Number of Bits Per Information Symbol:4\n",
      "Number of Channel Uses:7\n",
      "Rate of Communication:0.5714285714285714\n"
     ]
    }
   ],
   "source": [
    "#################################################\n",
    "# Parameters of a (n,k) AutoEncoder (AE)\n",
    "# all the symbols are assumed to be real valued\n",
    "#################################################\n",
    "\n",
    "# number of information/message symbols that Tx communicates over channel to Rx\n",
    "M = 16 \n",
    "# number of bits per information symbol\n",
    "k = int(np.log2(M)) \n",
    "# number of channel uses or dimension of each code-word symbol or number of bits per code-word symbol\n",
    "n = 7\n",
    "# Rate of communication. i.e., k bits per n channel uses\n",
    "R = k/n \n",
    "print(\"###################################################################################################\")\n",
    "print(\"Parameters of \"+str((n,k))+\" AutoEncoder are:\\n\")\n",
    "print(\"Number of Information Symbols:\" + str(M))\n",
    "print(\"Number of Bits Per Information Symbol:\" + str(k))\n",
    "print(\"Number of Channel Uses:\" + str(n))\n",
    "print(\"Rate of Communication:\" + str(R))"
   ]
  },
  {
   "cell_type": "code",
   "execution_count": 3,
   "id": "5e05dc2c",
   "metadata": {},
   "outputs": [],
   "source": [
    "###################################\n",
    "#SNR at which AE is being trained\n",
    "###################################\n",
    "#---------------------------------------------------------------------------------------------------------------\n",
    "# SNR in dB = Es/No, where Es: Energy per symbol, No: Noise Power Spectral Density\n",
    "snr_dB = 7 \n",
    "# snr in linear scale\n",
    "snr_train = np.power(10,snr_dB/10) \n",
    "# noise standard deviation\n",
    "noise_stddev = np.sqrt(1/(2*R*snr_train))"
   ]
  },
  {
   "cell_type": "markdown",
   "id": "7050b7c4",
   "metadata": {},
   "source": [
    "## Training Data"
   ]
  },
  {
   "cell_type": "code",
   "execution_count": 4,
   "id": "6e586817",
   "metadata": {},
   "outputs": [
    {
     "name": "stdout",
     "output_type": "stream",
     "text": [
      "One-Hot Encodings of information symbols:\n",
      "\n",
      "[[1. 0. 0. 0. 0. 0. 0. 0. 0. 0. 0. 0. 0. 0. 0. 0.]\n",
      " [0. 1. 0. 0. 0. 0. 0. 0. 0. 0. 0. 0. 0. 0. 0. 0.]\n",
      " [0. 0. 1. 0. 0. 0. 0. 0. 0. 0. 0. 0. 0. 0. 0. 0.]\n",
      " [0. 0. 0. 1. 0. 0. 0. 0. 0. 0. 0. 0. 0. 0. 0. 0.]\n",
      " [0. 0. 0. 0. 1. 0. 0. 0. 0. 0. 0. 0. 0. 0. 0. 0.]\n",
      " [0. 0. 0. 0. 0. 1. 0. 0. 0. 0. 0. 0. 0. 0. 0. 0.]\n",
      " [0. 0. 0. 0. 0. 0. 1. 0. 0. 0. 0. 0. 0. 0. 0. 0.]\n",
      " [0. 0. 0. 0. 0. 0. 0. 1. 0. 0. 0. 0. 0. 0. 0. 0.]\n",
      " [0. 0. 0. 0. 0. 0. 0. 0. 1. 0. 0. 0. 0. 0. 0. 0.]\n",
      " [0. 0. 0. 0. 0. 0. 0. 0. 0. 1. 0. 0. 0. 0. 0. 0.]\n",
      " [0. 0. 0. 0. 0. 0. 0. 0. 0. 0. 1. 0. 0. 0. 0. 0.]\n",
      " [0. 0. 0. 0. 0. 0. 0. 0. 0. 0. 0. 1. 0. 0. 0. 0.]\n",
      " [0. 0. 0. 0. 0. 0. 0. 0. 0. 0. 0. 0. 1. 0. 0. 0.]\n",
      " [0. 0. 0. 0. 0. 0. 0. 0. 0. 0. 0. 0. 0. 1. 0. 0.]\n",
      " [0. 0. 0. 0. 0. 0. 0. 0. 0. 0. 0. 0. 0. 0. 1. 0.]\n",
      " [0. 0. 0. 0. 0. 0. 0. 0. 0. 0. 0. 0. 0. 0. 0. 1.]]\n"
     ]
    }
   ],
   "source": [
    "#############################################\n",
    "# One-hot embeddings of information symbols.\n",
    "#############################################\n",
    "# Each information symbol is mapped to a standard basis vector of dimension M\n",
    "\n",
    "symbol_encodings = np.eye(M) \n",
    "print(\"One-Hot Encodings of information symbols:\\n\")\n",
    "print(symbol_encodings)"
   ]
  },
  {
   "cell_type": "code",
   "execution_count": 5,
   "id": "5a62478c",
   "metadata": {},
   "outputs": [
    {
     "name": "stdout",
     "output_type": "stream",
     "text": [
      "[ 1  6  4 ... 12 14  1]\n"
     ]
    }
   ],
   "source": [
    "###############################################################################\n",
    "# Generating data samples of size N. Each sample can take values from 0 to M-1\n",
    "###############################################################################\n",
    "N  = 9600000\n",
    "#*********************************************************************************\n",
    "# use this value of N only for Constellation plot when using TSNE under (7,4) AE\n",
    "# N = 1500\n",
    "#*********************************************************************************\n",
    "# random indices for labeling information symbols\n",
    "train_label = np.random.randint(M,size=N)\n",
    "print(train_label)"
   ]
  },
  {
   "cell_type": "code",
   "execution_count": 6,
   "id": "6334175a",
   "metadata": {},
   "outputs": [
    {
     "name": "stdout",
     "output_type": "stream",
     "text": [
      "\n",
      "\n",
      "The shape of training data:\n",
      "(9600000, 16)\n"
     ]
    }
   ],
   "source": [
    "########################\n",
    "# Training data samples\n",
    "########################\n",
    "data = []\n",
    "for i in train_label:\n",
    "    temp = np.zeros(M)\n",
    "    temp[i] = 1\n",
    "    data.append(temp)\n",
    "# converting data in to a numpy array    \n",
    "train_data = np.array(data)\n",
    "print(\"\\n\")\n",
    "# Printing the shape of training data\n",
    "print(\"The shape of training data:\")\n",
    "print(train_data.shape)"
   ]
  },
  {
   "cell_type": "code",
   "execution_count": 7,
   "id": "04f271e6",
   "metadata": {},
   "outputs": [
    {
     "name": "stdout",
     "output_type": "stream",
     "text": [
      "[8722086 1789128  634850  889158 8028622 5232375 9415091 3093627 6283144\n",
      " 2887914 8242673 2261270 3321180]\n",
      "\n",
      "\n",
      "7 [0. 0. 0. 0. 0. 0. 0. 1. 0. 0. 0. 0. 0. 0. 0. 0.]\n",
      "10 [0. 0. 0. 0. 0. 0. 0. 0. 0. 0. 1. 0. 0. 0. 0. 0.]\n",
      "7 [0. 0. 0. 0. 0. 0. 0. 1. 0. 0. 0. 0. 0. 0. 0. 0.]\n",
      "13 [0. 0. 0. 0. 0. 0. 0. 0. 0. 0. 0. 0. 0. 1. 0. 0.]\n",
      "11 [0. 0. 0. 0. 0. 0. 0. 0. 0. 0. 0. 1. 0. 0. 0. 0.]\n",
      "11 [0. 0. 0. 0. 0. 0. 0. 0. 0. 0. 0. 1. 0. 0. 0. 0.]\n",
      "4 [0. 0. 0. 0. 1. 0. 0. 0. 0. 0. 0. 0. 0. 0. 0. 0.]\n",
      "5 [0. 0. 0. 0. 0. 1. 0. 0. 0. 0. 0. 0. 0. 0. 0. 0.]\n",
      "6 [0. 0. 0. 0. 0. 0. 1. 0. 0. 0. 0. 0. 0. 0. 0. 0.]\n",
      "7 [0. 0. 0. 0. 0. 0. 0. 1. 0. 0. 0. 0. 0. 0. 0. 0.]\n",
      "2 [0. 0. 1. 0. 0. 0. 0. 0. 0. 0. 0. 0. 0. 0. 0. 0.]\n",
      "2 [0. 0. 1. 0. 0. 0. 0. 0. 0. 0. 0. 0. 0. 0. 0. 0.]\n",
      "11 [0. 0. 0. 0. 0. 0. 0. 0. 0. 0. 0. 1. 0. 0. 0. 0.]\n"
     ]
    }
   ],
   "source": [
    "# Verifying training data with its label or index for 13 samples\n",
    "\n",
    "tempLabel_train = np.random.randint(N,size=13)\n",
    "print(tempLabel_train)\n",
    "print(\"\\n\")\n",
    "for i in tempLabel_train:\n",
    "    print(train_label[i],train_data[i])"
   ]
  },
  {
   "cell_type": "markdown",
   "id": "68dcaed2",
   "metadata": {},
   "source": [
    "## Testing Data"
   ]
  },
  {
   "cell_type": "code",
   "execution_count": 8,
   "id": "a3418e5a",
   "metadata": {},
   "outputs": [
    {
     "name": "stdout",
     "output_type": "stream",
     "text": [
      "The shape of test data is:\n",
      "(16000, 16)\n"
     ]
    }
   ],
   "source": [
    "###############################\n",
    "# Generating data for testing\n",
    "###############################\n",
    "N_test = 16000\n",
    "#**************************************************\n",
    "# use this only for Constellation Plot of (7,4) AE\n",
    "# N_test = 500\n",
    "#**************************************************\n",
    "test_label = np.random.randint(M,size=N_test)\n",
    "test_data = []\n",
    "for i in test_label:\n",
    "    temp    = np.zeros(M)\n",
    "    temp[i] = 1\n",
    "    test_data.append(temp)\n",
    "# converting it to a numpy array     \n",
    "test_data = np.array(test_data)\n",
    "# Printing the shape of test data\n",
    "print(\"The shape of test data is:\")\n",
    "print(test_data.shape)"
   ]
  },
  {
   "cell_type": "code",
   "execution_count": 9,
   "id": "f63aa712",
   "metadata": {},
   "outputs": [
    {
     "name": "stdout",
     "output_type": "stream",
     "text": [
      "[11804 10282  6088  3587  2228  3271  1775]\n",
      "\n",
      "\n",
      "2 [0. 0. 1. 0. 0. 0. 0. 0. 0. 0. 0. 0. 0. 0. 0. 0.]\n",
      "15 [0. 0. 0. 0. 0. 0. 0. 0. 0. 0. 0. 0. 0. 0. 0. 1.]\n",
      "15 [0. 0. 0. 0. 0. 0. 0. 0. 0. 0. 0. 0. 0. 0. 0. 1.]\n",
      "15 [0. 0. 0. 0. 0. 0. 0. 0. 0. 0. 0. 0. 0. 0. 0. 1.]\n",
      "8 [0. 0. 0. 0. 0. 0. 0. 0. 1. 0. 0. 0. 0. 0. 0. 0.]\n",
      "13 [0. 0. 0. 0. 0. 0. 0. 0. 0. 0. 0. 0. 0. 1. 0. 0.]\n",
      "9 [0. 0. 0. 0. 0. 0. 0. 0. 0. 1. 0. 0. 0. 0. 0. 0.]\n"
     ]
    }
   ],
   "source": [
    "# Verifying test data with its label for 7 sample\n",
    "tempTestLabel = np.random.randint(N_test,size=7)\n",
    "print(tempTestLabel)\n",
    "print(\"\\n\")\n",
    "for i in tempTestLabel:\n",
    "    print(test_label[i],test_data[i])\n"
   ]
  },
  {
   "cell_type": "markdown",
   "id": "c53b916a",
   "metadata": {},
   "source": [
    "## Normalization Functions"
   ]
  },
  {
   "cell_type": "code",
   "execution_count": 10,
   "id": "0716d720",
   "metadata": {},
   "outputs": [],
   "source": [
    "def normalizeAvgPower(x):\n",
    "    \"\"\" Normalizes the power of input tensor\"\"\"\n",
    "    return x/(be.sqrt(be.mean(x**2)))"
   ]
  },
  {
   "cell_type": "code",
   "execution_count": 11,
   "id": "84ec44be",
   "metadata": {},
   "outputs": [],
   "source": [
    "def normalizeEnergy(x):\n",
    "    \"\"\" Normalizes the energy of input tensor\"\"\"\n",
    "    return np.sqrt(n)*(be.l2_normalize(x,axis=-1))"
   ]
  },
  {
   "cell_type": "markdown",
   "id": "d746ef87",
   "metadata": {},
   "source": [
    "## Defining AutoEncoder Model"
   ]
  },
  {
   "cell_type": "code",
   "execution_count": 12,
   "id": "50876d80",
   "metadata": {},
   "outputs": [
    {
     "name": "stdout",
     "output_type": "stream",
     "text": [
      "Model: \"model\"\n",
      "_________________________________________________________________\n",
      " Layer (type)                Output Shape              Param #   \n",
      "=================================================================\n",
      " input_1 (InputLayer)        [(None, 16)]              0         \n",
      "                                                                 \n",
      " dense (Dense)               (None, 16)                272       \n",
      "                                                                 \n",
      " dense_1 (Dense)             (None, 7)                 119       \n",
      "                                                                 \n",
      " lambda (Lambda)             (None, 7)                 0         \n",
      "                                                                 \n",
      " gaussian_noise (GaussianNoi  (None, 7)                0         \n",
      " se)                                                             \n",
      "                                                                 \n",
      " dense_2 (Dense)             (None, 16)                128       \n",
      "                                                                 \n",
      " dense_3 (Dense)             (None, 16)                272       \n",
      "                                                                 \n",
      "=================================================================\n",
      "Total params: 791\n",
      "Trainable params: 791\n",
      "Non-trainable params: 0\n",
      "_________________________________________________________________\n",
      "None\n"
     ]
    }
   ],
   "source": [
    "##########################################\n",
    "# Defining AutoEncoder and its layers\n",
    "##########################################\n",
    "#----------------------------------------------------------------------------------------------------------------\n",
    "###########\n",
    "# Tx layer\n",
    "###########\n",
    "onehot  = Input(shape=(M,))\n",
    "dense1  = Dense(M, activation = 'relu')(onehot)\n",
    "dense2  = Dense(n, activation = 'linear')(dense1)\n",
    "x       = Lambda(normalizeAvgPower)(dense2)      # Avg power constraint\n",
    "# x       = Lambda(normalizeEnergy)(dense2)      # Energy constraint\n",
    "#****************************************************************************************\n",
    "################\n",
    "# Channel Layer\n",
    "################\n",
    "y       = GaussianNoise(stddev = noise_stddev)(x)\n",
    "#****************************************************************************************\n",
    "###########\n",
    "# Rx layer\n",
    "###########\n",
    "dense3  = Dense(M, activation = 'relu')(y)\n",
    "prob    = Dense(M, activation = 'softmax')(dense3) \n",
    "#-----------------------------------------------------------------------------------------------------------------\n",
    "#########################################\n",
    "# Defining end to end AutoEncoder Model\n",
    "#########################################\n",
    "autoEncoder = Model(onehot, prob)\n",
    "#-----------------------------------------------------------------------------------------------------------------\n",
    "# Instantiate optimizer\n",
    "adam        = Adam(learning_rate=0.01)\n",
    "# Instantiate Stochastic Gradient Descent Method\n",
    "sgd         = SGD(learning_rate=0.02)\n",
    "#-----------------------------------------------------------------------------------------------------------------\n",
    "# compile end to end model\n",
    "autoEncoder.compile(optimizer=adam, loss='categorical_crossentropy')\n",
    "#-----------------------------------------------------------------------------------------------------------------\n",
    "# printing summary of layers and its trainable parameters\n",
    "print(autoEncoder.summary())\n"
   ]
  },
  {
   "cell_type": "markdown",
   "id": "96eab5b1",
   "metadata": {},
   "source": [
    "In the following code snippet we show how to train an end to end AE by a call to `fit()` method specifying the training and validation data. We choose 50 `epochs` with a `batch_size` of 1024. One can vary these values to obtain a different trainable model."
   ]
  },
  {
   "cell_type": "markdown",
   "id": "7c9fb839",
   "metadata": {},
   "source": [
    "## Training AutoEncoder"
   ]
  },
  {
   "cell_type": "code",
   "execution_count": 13,
   "id": "308c84b2",
   "metadata": {},
   "outputs": [
    {
     "name": "stdout",
     "output_type": "stream",
     "text": [
      "Epoch 1/50\n",
      "1172/1172 [==============================] - 3s 2ms/step - loss: 0.0554 - val_loss: 2.1542e-06\n",
      "Epoch 2/50\n",
      "1172/1172 [==============================] - 2s 2ms/step - loss: 0.0012 - val_loss: 1.2036e-07\n",
      "Epoch 3/50\n",
      "1172/1172 [==============================] - 2s 2ms/step - loss: 8.7295e-04 - val_loss: 1.5080e-08\n",
      "Epoch 4/50\n",
      "1172/1172 [==============================] - 2s 2ms/step - loss: 7.8200e-04 - val_loss: 0.0000e+00\n",
      "Epoch 5/50\n",
      "1172/1172 [==============================] - 2s 2ms/step - loss: 7.6646e-04 - val_loss: 0.0000e+00\n",
      "Epoch 6/50\n",
      "1172/1172 [==============================] - 2s 2ms/step - loss: 7.1044e-04 - val_loss: 0.0000e+00\n",
      "Epoch 7/50\n",
      "1172/1172 [==============================] - 2s 2ms/step - loss: 6.2757e-04 - val_loss: 0.0000e+00\n",
      "Epoch 8/50\n",
      "1172/1172 [==============================] - 2s 2ms/step - loss: 6.1070e-04 - val_loss: 0.0000e+00\n",
      "Epoch 9/50\n",
      "1172/1172 [==============================] - 2s 2ms/step - loss: 5.7148e-04 - val_loss: 0.0000e+00\n",
      "Epoch 10/50\n",
      "1172/1172 [==============================] - 2s 2ms/step - loss: 5.6526e-04 - val_loss: 0.0000e+00\n",
      "Epoch 11/50\n",
      "1172/1172 [==============================] - 2s 2ms/step - loss: 5.5038e-04 - val_loss: 0.0000e+00\n",
      "Epoch 12/50\n",
      "1172/1172 [==============================] - 2s 2ms/step - loss: 5.1907e-04 - val_loss: 0.0000e+00\n",
      "Epoch 13/50\n",
      "1172/1172 [==============================] - 2s 2ms/step - loss: 5.0190e-04 - val_loss: 0.0000e+00\n",
      "Epoch 14/50\n",
      "1172/1172 [==============================] - 2s 2ms/step - loss: 5.2332e-04 - val_loss: 0.0000e+00\n",
      "Epoch 15/50\n",
      "1172/1172 [==============================] - 2s 2ms/step - loss: 5.1514e-04 - val_loss: 0.0000e+00\n",
      "Epoch 16/50\n",
      "1172/1172 [==============================] - 2s 2ms/step - loss: 4.8680e-04 - val_loss: 0.0000e+00\n",
      "Epoch 17/50\n",
      "1172/1172 [==============================] - 2s 2ms/step - loss: 4.8500e-04 - val_loss: 0.0000e+00\n",
      "Epoch 18/50\n",
      "1172/1172 [==============================] - 3s 2ms/step - loss: 4.8810e-04 - val_loss: 0.0000e+00\n",
      "Epoch 19/50\n",
      "1172/1172 [==============================] - 2s 2ms/step - loss: 4.9395e-04 - val_loss: 0.0000e+00\n",
      "Epoch 20/50\n",
      "1172/1172 [==============================] - 3s 2ms/step - loss: 4.9134e-04 - val_loss: 0.0000e+00\n",
      "Epoch 21/50\n",
      "1172/1172 [==============================] - 2s 2ms/step - loss: 4.8225e-04 - val_loss: 0.0000e+00\n",
      "Epoch 22/50\n",
      "1172/1172 [==============================] - 2s 2ms/step - loss: 4.7663e-04 - val_loss: 0.0000e+00\n",
      "Epoch 23/50\n",
      "1172/1172 [==============================] - 2s 2ms/step - loss: 4.9656e-04 - val_loss: 0.0000e+00\n",
      "Epoch 24/50\n",
      "1172/1172 [==============================] - 2s 2ms/step - loss: 4.7370e-04 - val_loss: 0.0000e+00\n",
      "Epoch 25/50\n",
      "1172/1172 [==============================] - 2s 2ms/step - loss: 4.6397e-04 - val_loss: 0.0000e+00\n",
      "Epoch 26/50\n",
      "1172/1172 [==============================] - 2s 2ms/step - loss: 4.7947e-04 - val_loss: 0.0000e+00\n",
      "Epoch 27/50\n",
      "1172/1172 [==============================] - 2s 2ms/step - loss: 4.5694e-04 - val_loss: 0.0000e+00\n",
      "Epoch 28/50\n",
      "1172/1172 [==============================] - 2s 2ms/step - loss: 4.8890e-04 - val_loss: 0.0000e+00\n",
      "Epoch 29/50\n",
      "1172/1172 [==============================] - 2s 2ms/step - loss: 4.4968e-04 - val_loss: 0.0000e+00\n",
      "Epoch 30/50\n",
      "1172/1172 [==============================] - 2s 2ms/step - loss: 4.6044e-04 - val_loss: 0.0000e+00\n",
      "Epoch 31/50\n",
      "1172/1172 [==============================] - 2s 2ms/step - loss: 4.5721e-04 - val_loss: 0.0000e+00\n",
      "Epoch 32/50\n",
      "1172/1172 [==============================] - 2s 2ms/step - loss: 4.8445e-04 - val_loss: 0.0000e+00\n",
      "Epoch 33/50\n",
      "1172/1172 [==============================] - 2s 2ms/step - loss: 4.4304e-04 - val_loss: 0.0000e+00\n",
      "Epoch 34/50\n",
      "1172/1172 [==============================] - 2s 2ms/step - loss: 4.6238e-04 - val_loss: 0.0000e+00\n",
      "Epoch 35/50\n",
      "1172/1172 [==============================] - 2s 2ms/step - loss: 4.7742e-04 - val_loss: 0.0000e+00\n",
      "Epoch 36/50\n",
      "1172/1172 [==============================] - 2s 2ms/step - loss: 4.4382e-04 - val_loss: 0.0000e+00\n",
      "Epoch 37/50\n",
      "1172/1172 [==============================] - 2s 2ms/step - loss: 4.6089e-04 - val_loss: 0.0000e+00\n",
      "Epoch 38/50\n",
      "1172/1172 [==============================] - 2s 2ms/step - loss: 4.4614e-04 - val_loss: 0.0000e+00\n",
      "Epoch 39/50\n",
      "1172/1172 [==============================] - 2s 2ms/step - loss: 4.4854e-04 - val_loss: 0.0000e+00\n",
      "Epoch 40/50\n",
      "1172/1172 [==============================] - 2s 2ms/step - loss: 4.7231e-04 - val_loss: 0.0000e+00\n",
      "Epoch 41/50\n",
      "1172/1172 [==============================] - 2s 2ms/step - loss: 4.5349e-04 - val_loss: 0.0000e+00\n",
      "Epoch 42/50\n",
      "1172/1172 [==============================] - 2s 2ms/step - loss: 4.5671e-04 - val_loss: 0.0000e+00\n",
      "Epoch 43/50\n",
      "1172/1172 [==============================] - 2s 2ms/step - loss: 4.3822e-04 - val_loss: 0.0000e+00\n",
      "Epoch 44/50\n",
      "1172/1172 [==============================] - 2s 2ms/step - loss: 4.3895e-04 - val_loss: 0.0000e+00\n",
      "Epoch 45/50\n",
      "1172/1172 [==============================] - 2s 2ms/step - loss: 4.3876e-04 - val_loss: 0.0000e+00\n",
      "Epoch 46/50\n",
      "1172/1172 [==============================] - 2s 2ms/step - loss: 4.4704e-04 - val_loss: 0.0000e+00\n",
      "Epoch 47/50\n",
      "1172/1172 [==============================] - 2s 2ms/step - loss: 4.4673e-04 - val_loss: 0.0000e+00\n",
      "Epoch 48/50\n",
      "1172/1172 [==============================] - 2s 2ms/step - loss: 4.6551e-04 - val_loss: 0.0000e+00\n",
      "Epoch 49/50\n",
      "1172/1172 [==============================] - 2s 2ms/step - loss: 4.4831e-04 - val_loss: 0.0000e+00\n",
      "Epoch 50/50\n",
      "1172/1172 [==============================] - 2s 2ms/step - loss: 4.2966e-04 - val_loss: 0.0000e+00\n"
     ]
    },
    {
     "data": {
      "text/plain": [
       "<keras.callbacks.History at 0x7fa14c4e5b50>"
      ]
     },
     "execution_count": 13,
     "metadata": {},
     "output_type": "execute_result"
    }
   ],
   "source": [
    "#######################\n",
    "# Training Auto Encoder\n",
    "########################\n",
    "autoEncoder.fit(train_data, train_data,\n",
    "                epochs = 50,\n",
    "                batch_size = 8*1024,\n",
    "                validation_data=(test_data, test_data))"
   ]
  },
  {
   "cell_type": "markdown",
   "id": "a60fbcf9",
   "metadata": {},
   "source": [
    "## Defining Tx, Channel and Rx from Trained AutoEncoder"
   ]
  },
  {
   "cell_type": "code",
   "execution_count": 14,
   "id": "e438e00e",
   "metadata": {},
   "outputs": [],
   "source": [
    "########################################################\n",
    "# Defining Tx from end to end trained autoEncoder model\n",
    "#######################################################\n",
    "\n",
    "transmitter   = Model(onehot, x)\n",
    "#*********************************************************\n",
    "#######################\n",
    "# Defining channel part \n",
    "#######################\n",
    "channelInput  = Input(shape=(n,))\n",
    "channelOutput = autoEncoder.layers[-3](channelInput)\n",
    "channel       = Model(channelInput, channelOutput)\n",
    "#*********************************************************\n",
    "##################\n",
    "# Defining Rx part\n",
    "##################\n",
    "rxInput       = Input(shape=(n,))\n",
    "rx1           = autoEncoder.layers[-2](rxInput)\n",
    "rxOutput      = autoEncoder.layers[-1](rx1)\n",
    "receiver      = Model(rxInput,rxOutput)"
   ]
  },
  {
   "cell_type": "markdown",
   "id": "4e2fe2ef",
   "metadata": {},
   "source": [
    "## Block Error Rate (BLER) performance"
   ]
  },
  {
   "cell_type": "markdown",
   "id": "088b3f8a",
   "metadata": {},
   "source": [
    "The following code snippet computes and plots BLER performance of of `(n,k) AE` and compares it with base line `(n,k) Hamming code`.\n",
    "\n",
    "\n",
    "**Note:** Run the following code snippets only with high values of `N`, `N_test`. Comment all the following code snippet for constellation plots. Uncomment only for BLER plots"
   ]
  },
  {
   "cell_type": "code",
   "execution_count": 15,
   "id": "3e2fdbf3",
   "metadata": {},
   "outputs": [
    {
     "name": "stdout",
     "output_type": "stream",
     "text": [
      "500/500 [==============================] - 0s 365us/step\n",
      "500/500 [==============================] - 0s 373us/step\n",
      "SNR(dB): -4.0 BLER: 0.4968125\n",
      "500/500 [==============================] - 0s 356us/step\n",
      "500/500 [==============================] - 0s 388us/step\n",
      "SNR(dB): -3.5 BLER: 0.45825\n",
      "500/500 [==============================] - 0s 323us/step\n",
      "500/500 [==============================] - 0s 364us/step\n",
      "SNR(dB): -3.0 BLER: 0.424375\n",
      "500/500 [==============================] - 0s 347us/step\n",
      "500/500 [==============================] - 0s 366us/step\n",
      "SNR(dB): -2.5 BLER: 0.383\n",
      "500/500 [==============================] - 0s 340us/step\n",
      "500/500 [==============================] - 0s 368us/step\n",
      "SNR(dB): -2.0 BLER: 0.3475625\n",
      "500/500 [==============================] - 0s 347us/step\n",
      "500/500 [==============================] - 0s 372us/step\n",
      "SNR(dB): -1.5 BLER: 0.303625\n",
      "500/500 [==============================] - 0s 343us/step\n",
      "500/500 [==============================] - 0s 367us/step\n",
      "SNR(dB): -1.0 BLER: 0.263375\n",
      "500/500 [==============================] - 0s 332us/step\n",
      "500/500 [==============================] - 0s 395us/step\n",
      "SNR(dB): -0.5 BLER: 0.2231875\n",
      "500/500 [==============================] - 0s 371us/step\n",
      "500/500 [==============================] - 0s 379us/step\n",
      "SNR(dB): 0.0 BLER: 0.18675\n",
      "500/500 [==============================] - 0s 341us/step\n",
      "500/500 [==============================] - 0s 378us/step\n",
      "SNR(dB): 0.5 BLER: 0.150875\n",
      "500/500 [==============================] - 0s 367us/step\n",
      "500/500 [==============================] - 0s 372us/step\n",
      "SNR(dB): 1.0 BLER: 0.121625\n",
      "500/500 [==============================] - 0s 300us/step\n",
      "500/500 [==============================] - 0s 346us/step\n",
      "SNR(dB): 1.5 BLER: 0.092\n",
      "500/500 [==============================] - 0s 346us/step\n",
      "500/500 [==============================] - 0s 353us/step\n",
      "SNR(dB): 2.0 BLER: 0.066875\n",
      "500/500 [==============================] - 0s 311us/step\n",
      "500/500 [==============================] - 0s 353us/step\n",
      "SNR(dB): 2.5 BLER: 0.0466875\n",
      "500/500 [==============================] - 0s 320us/step\n",
      "500/500 [==============================] - 0s 359us/step\n",
      "SNR(dB): 3.0 BLER: 0.0330625\n",
      "500/500 [==============================] - 0s 353us/step\n",
      "500/500 [==============================] - 0s 354us/step\n",
      "SNR(dB): 3.5 BLER: 0.0234375\n",
      "500/500 [==============================] - 0s 343us/step\n",
      "500/500 [==============================] - 0s 353us/step\n",
      "SNR(dB): 4.0 BLER: 0.012125\n",
      "500/500 [==============================] - 0s 320us/step\n",
      "500/500 [==============================] - 0s 347us/step\n",
      "SNR(dB): 4.5 BLER: 0.0065625\n",
      "500/500 [==============================] - 0s 324us/step\n",
      "500/500 [==============================] - 0s 352us/step\n",
      "SNR(dB): 5.0 BLER: 0.0041875\n",
      "500/500 [==============================] - 0s 308us/step\n",
      "500/500 [==============================] - 0s 345us/step\n",
      "SNR(dB): 5.5 BLER: 0.0019375\n",
      "500/500 [==============================] - 0s 324us/step\n",
      "500/500 [==============================] - 0s 352us/step\n",
      "SNR(dB): 6.0 BLER: 0.000875\n",
      "500/500 [==============================] - 0s 303us/step\n",
      "500/500 [==============================] - 0s 360us/step\n",
      "SNR(dB): 6.5 BLER: 0.0003125\n",
      "500/500 [==============================] - 0s 339us/step\n",
      "500/500 [==============================] - 0s 357us/step\n",
      "SNR(dB): 7.0 BLER: 0.000125\n",
      "500/500 [==============================] - 0s 341us/step\n",
      "500/500 [==============================] - 0s 389us/step\n",
      "SNR(dB): 7.5 BLER: 0.0\n",
      "500/500 [==============================] - 0s 312us/step\n",
      "500/500 [==============================] - 0s 354us/step\n",
      "SNR(dB): 8.0 BLER: 0.0\n"
     ]
    }
   ],
   "source": [
    "#######################################\n",
    "# SNR vs BLER computation and plotting\n",
    "#######################################\n",
    "# use this snr_dB = np.arange(0,15,2) for (n,k) = (2,4) or (2,2) AE\n",
    "# use this snr_dB = np.arange(-4,8.5,0.5) for (7,4) AE \n",
    "\n",
    "snr_dB = np.arange(-4,8.5,0.5)\n",
    "bler   = np.zeros(snr_dB.shape[0])\n",
    "for ii in range(0,snr_dB.shape[0]):\n",
    "    snr_linear      = 10.0**(snr_dB[ii]/10.0)      # snr in linear scale\n",
    "    noise_std       = np.sqrt(1/(2*R*snr_linear))\n",
    "    noise_mean      = 0\n",
    "    num_errors      = 0\n",
    "    num_samples     = N_test \n",
    "    #-------------------------------------------------------------\n",
    "    noise           = noise_std*np.random.randn(num_samples,n)\n",
    "    #-------------------------------------------------------------\n",
    "    #########################\n",
    "    # predicted input symbols\n",
    "    #########################\n",
    "    x_hat           = transmitter.predict(test_data)\n",
    "    #-------------------------------------------------------------\n",
    "    ##############\n",
    "    # noisy input\n",
    "    ##############\n",
    "    x_hat_noisy     = x_hat + noise\n",
    "    #-------------------------------------------------------------\n",
    "    ##########################\n",
    "    # predicted output symbols\n",
    "    ##########################\n",
    "    y_hat           = receiver.predict(x_hat_noisy)\n",
    "    #-------------------------------------------------------------\n",
    "    ##################\n",
    "    # symbol estimates\n",
    "    ##################\n",
    "    sym_estimates   = np.argmax(y_hat, axis=1) \n",
    "    #-------------------------------------------------------------\n",
    "    #################################################\n",
    "    # counting errors and computing bler at each snr\n",
    "    #################################################\n",
    "    num_errors      = int(np.sum(sym_estimates != test_label))    \n",
    "    bler[ii]        = num_errors/num_samples\n",
    "    print('SNR(dB):', snr_dB[ii], 'BLER:', bler[ii])\n",
    "    "
   ]
  },
  {
   "cell_type": "markdown",
   "id": "c77336e4",
   "metadata": {},
   "source": [
    "## Hamming Codes"
   ]
  },
  {
   "cell_type": "markdown",
   "id": "d31167ef",
   "metadata": {},
   "source": [
    "### Importing necessary libraries"
   ]
  },
  {
   "cell_type": "code",
   "execution_count": 16,
   "id": "0a9a8229",
   "metadata": {},
   "outputs": [],
   "source": [
    "from toolkit5G.SymbolMapping import Demapper\n",
    "from toolkit5G.SymbolMapping import Mapper\n",
    "from toolkit5G.ChannelCoder  import HammingEncoder\n",
    "from toolkit5G.ChannelCoder  import HammingDecoder"
   ]
  },
  {
   "cell_type": "markdown",
   "id": "961ddc7f",
   "metadata": {},
   "source": [
    "### Transmitter"
   ]
  },
  {
   "cell_type": "code",
   "execution_count": 17,
   "id": "41b719fd",
   "metadata": {},
   "outputs": [
    {
     "name": "stdout",
     "output_type": "stream",
     "text": [
      "\n",
      "******** (7,4) Hamming Code ********\n",
      "       Shape of Input:(1000000, 4)\n",
      "    Shape of Enc Bits:(1000000, 7)\n",
      "   Constellation type: bpsk\n",
      "Number of bits/symbol: 1\n",
      "*********************************\n",
      "\n"
     ]
    }
   ],
   "source": [
    "##############################\n",
    "## Hamming Code Configurations\n",
    "##############################\n",
    "## (n,k) code for any random positive integer m\n",
    "m = 3            \n",
    "k = 2**m - m - 1\n",
    "n = 2**m - 1\n",
    "#------------------------------------------------\n",
    "## Payload Generation\n",
    "numDim = 2\n",
    "n1     = 1000000\n",
    "bits   = np.random.randint(2, size = (n1,k))\n",
    "\n",
    "#-------------------------------------------------\n",
    "## Hamming Encoder\n",
    "encBits = HammingEncoder(k,n)(bits)\n",
    "\n",
    "## Rate Matching\n",
    "codeword = encBits\n",
    "\n",
    "## Symbol Mapping\n",
    "constellation_type  = \"bpsk\"\n",
    "num_bits_per_symbol = 1\n",
    "\n",
    "mapperObject        = Mapper(constellation_type, num_bits_per_symbol)\n",
    "symbols             = mapperObject(codeword)\n",
    "\n",
    "print()\n",
    "print(\"******** (\"+str(n)+\",\"+str(k)+\") Hamming Code ********\")\n",
    "print(\"       Shape of Input:\"+str(bits.shape))\n",
    "print(\"    Shape of Enc Bits:\"+str(encBits.shape))\n",
    "print(\"   Constellation type: \"+str(constellation_type))\n",
    "print(\"Number of bits/symbol: \"+str(num_bits_per_symbol))\n",
    "print(\"*********************************\")\n",
    "print()"
   ]
  },
  {
   "cell_type": "code",
   "execution_count": 18,
   "id": "ca52d05d",
   "metadata": {},
   "outputs": [
    {
     "name": "stdout",
     "output_type": "stream",
     "text": [
      "At SNR(dB): -4.0 | coded BLER (soft): 0.487252 | coded BLER(hard): 0.555445\n",
      "At SNR(dB): -3.5 | coded BLER (soft): 0.451604 | coded BLER(hard): 0.523957\n",
      "At SNR(dB): -3.0 | coded BLER (soft): 0.413299 | coded BLER(hard): 0.489955\n",
      "At SNR(dB): -2.5 | coded BLER (soft): 0.372486 | coded BLER(hard): 0.452656\n",
      "At SNR(dB): -2.0 | coded BLER (soft): 0.333936 | coded BLER(hard): 0.416827\n",
      "At SNR(dB): -1.5 | coded BLER (soft): 0.295314 | coded BLER(hard): 0.38079\n",
      "At SNR(dB): -1.0 | coded BLER (soft): 0.254478 | coded BLER(hard): 0.34046\n",
      "At SNR(dB): -0.5 | coded BLER (soft): 0.2159 | coded BLER(hard): 0.30101\n",
      "At SNR(dB): 0.0 | coded BLER (soft): 0.178956 | coded BLER(hard): 0.26258\n",
      "At SNR(dB): 0.5 | coded BLER (soft): 0.144577 | coded BLER(hard): 0.225562\n",
      "At SNR(dB): 1.0 | coded BLER (soft): 0.114178 | coded BLER(hard): 0.188819\n",
      "At SNR(dB): 1.5 | coded BLER (soft): 0.086893 | coded BLER(hard): 0.154622\n",
      "At SNR(dB): 2.0 | coded BLER (soft): 0.063789 | coded BLER(hard): 0.123212\n",
      "At SNR(dB): 2.5 | coded BLER (soft): 0.045386 | coded BLER(hard): 0.096095\n",
      "At SNR(dB): 3.0 | coded BLER (soft): 0.030498 | coded BLER(hard): 0.072233\n",
      "At SNR(dB): 3.5 | coded BLER (soft): 0.01938 | coded BLER(hard): 0.052525\n",
      "At SNR(dB): 4.0 | coded BLER (soft): 0.011911 | coded BLER(hard): 0.036663\n",
      "At SNR(dB): 4.5 | coded BLER (soft): 0.006881 | coded BLER(hard): 0.024715\n",
      "At SNR(dB): 5.0 | coded BLER (soft): 0.003575 | coded BLER(hard): 0.015688\n",
      "At SNR(dB): 5.5 | coded BLER (soft): 0.001801 | coded BLER(hard): 0.00953\n",
      "At SNR(dB): 6.0 | coded BLER (soft): 0.000824 | coded BLER(hard): 0.005408\n",
      "At SNR(dB): 6.5 | coded BLER (soft): 0.000315 | coded BLER(hard): 0.002825\n",
      "At SNR(dB): 7.0 | coded BLER (soft): 0.000127 | coded BLER(hard): 0.001454\n",
      "At SNR(dB): 7.5 | coded BLER (soft): 4.1e-05 | coded BLER(hard): 0.000618\n",
      "At SNR(dB): 8.0 | coded BLER (soft): 6e-06 | coded BLER(hard): 0.000264\n"
     ]
    }
   ],
   "source": [
    "######################################\n",
    "# (7,4) Hamming code BLER performance\n",
    "######################################\n",
    "\n",
    "SNR  = 10**(snr_dB/10)  # SNR in linear scale\n",
    "\n",
    "codedBLERhard = np.zeros(SNR.shape)\n",
    "codedBLERsoft = np.zeros(SNR.shape)\n",
    "\n",
    "## Symbol Demapping\n",
    "# demapping_method = str(np.random.choice([\"app\", \"maxlog\"]))\n",
    "# hard_out         = bool(np.random.choice([False, True]))\n",
    "demapping_method = \"app\"\n",
    "hard_out         = False\n",
    "\n",
    "demapper         = Demapper(demapping_method, constellation_type, \n",
    "                            num_bits_per_symbol, hard_out = hard_out)\n",
    "\n",
    "\n",
    "snrIndex = 0\n",
    "for snr in SNR:\n",
    "    symbs = symbols + np.sqrt(0.5/R/snr)*(np.random.standard_normal(size=symbols.shape)+1j*np.random.standard_normal(size=symbols.shape)).astype(np.complex64)\n",
    "\n",
    "    llrEst  = demapper([symbs, np.float32(1/snr)])\n",
    "    uncBits = np.where(llrEst > 0, np.int8(1), np.int8(0))\n",
    "        \n",
    "    decoder = HammingDecoder(k,n)\n",
    "    decBits = decoder(uncBits)\n",
    "    \n",
    "    codedBLERhard[snrIndex]= np.mean(np.where(np.sum(np.abs(bits-decBits), axis=1)>0, True, False))\n",
    "    \n",
    "    decoder = HammingDecoder(k,n)\n",
    "    decBits = decoder(llrEst, \"sphereDecoding\")\n",
    "    \n",
    "    codedBLERsoft[snrIndex]= np.mean(np.where(np.sum(np.abs(bits-decBits), axis=1)>0, True, False))\n",
    "    \n",
    "    print(\"At SNR(dB): \"+str(snr_dB[snrIndex])+\" | coded BLER (soft): \"+str(codedBLERsoft[snrIndex])+\" | coded BLER(hard): \"+str(codedBLERhard[snrIndex]))\n",
    "\n",
    "    snrIndex += 1\n",
    "    "
   ]
  },
  {
   "cell_type": "markdown",
   "id": "f0cb491f",
   "metadata": {},
   "source": [
    "### BLER plot : comparison of AutoEncoder BLER with base line (n,k) Hamming Code BLER"
   ]
  },
  {
   "cell_type": "code",
   "execution_count": 19,
   "id": "52ddd590",
   "metadata": {},
   "outputs": [
    {
     "data": {
      "application/vnd.jupyter.widget-view+json": {
       "model_id": "e1c2599a8d7b44e7a4536cd08f4d75ce",
       "version_major": 2,
       "version_minor": 0
      },
      "image/png": "[encoded data removed]",
      "text/html": [
       "\n",
       "            <div style=\"display: inline-block;\">\n",
       "                <div class=\"jupyter-widgets widget-label\" style=\"text-align: center;\">\n",
       "                    Figure\n",
       "                </div>\n",
       "                <img src='data:image/png;base64,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' width=640.0/>\n",
       "            </div>\n",
       "        "
      ],
      "text/plain": [
       "Canvas(toolbar=Toolbar(toolitems=[('Home', 'Reset original view', 'home', 'home'), ('Back', 'Back to previous …"
      ]
     },
     "metadata": {},
     "output_type": "display_data"
    }
   ],
   "source": [
    "# ploting BLER \n",
    "fig, ax = plt.subplots()\n",
    "\n",
    "ax.semilogy(snr_dB, codedBLERsoft, 'tomato', lw = 3.5, linestyle = (0, (3, 1, 1, 1, 1, 1)), marker = \"s\", ms = 6, mec = \"k\", mfc = \"cyan\", label = \"coded BER [Soft]\")\n",
    "ax.semilogy(snr_dB, codedBLERhard, 'k', lw = 3, linestyle = (0, (3, 1, 1, 1, 1, 1)), marker = \"X\", ms = 9, mec = \"green\", mfc = \"olive\", label = \"coded BER [Hard]\")\n",
    "ax.semilogy(snr_dB, bler, 'y', lw = 3, linestyle = (0, (3, 1, 1, 1, 1, 1)), marker = \"+\", ms = 9, mec = \"blue\", mfc = \"pink\", label = \"AutoEncoder(n,k)\")\n",
    "ax.legend()\n",
    "ax.set_xticks(snr_dB)\n",
    "ax.grid()\n",
    "ax.set_ylabel(\"Block Error Rate\")\n",
    "ax.set_xlabel(\"SNR (dB)\")\n",
    "\n",
    "plt.show()"
   ]
  },
  {
   "cell_type": "markdown",
   "id": "9413e417",
   "metadata": {},
   "source": [
    "## Constellation Learning"
   ]
  },
  {
   "cell_type": "markdown",
   "id": "9f9718ba",
   "metadata": {},
   "source": [
    "The following cells provide the code to generate and plot the learned constellation by Tx in the presence of AWGN.\n",
    "\n",
    "\n",
    "**Note:** we have to go back to the previous steps to change the values of `N`,`N_test` and `retrain the AE` to plot a constellation for `(7,4) AE` as it uses `TSNE`. For other cases such as (2,4) and (2,2) we can use same `N`,`N_test` for BLER and constellation plots."
   ]
  },
  {
   "cell_type": "code",
   "execution_count": 20,
   "id": "a6132943",
   "metadata": {},
   "outputs": [],
   "source": [
    "# #################################################################################\n",
    "# # predicting the learned constellation for a given number of information symbols M\n",
    "# #################################################################################\n",
    "# constellationPoints = transmitter.predict(symbol_encodings)\n",
    "# print(\"\\n\")\n",
    "# print(constellationPoints)\n",
    "# print(\"\\n\")\n",
    "# print(\"Shape of learned constellation:\" + str(constellationPoints.shape))"
   ]
  },
  {
   "cell_type": "markdown",
   "id": "15777d27",
   "metadata": {},
   "source": [
    "### learned constellation plot"
   ]
  },
  {
   "cell_type": "code",
   "execution_count": 21,
   "id": "0665a0d5",
   "metadata": {},
   "outputs": [
    {
     "name": "stdout",
     "output_type": "stream",
     "text": [
      "1/1 [==============================] - 0s 27ms/step\n"
     ]
    },
    {
     "data": {
      "application/vnd.jupyter.widget-view+json": {
       "model_id": "046112ba2136475aa1629bd93146bc79",
       "version_major": 2,
       "version_minor": 0
      },
      "image/png": "[encoded data removed]",
      "text/html": [
       "\n",
       "            <div style=\"display: inline-block;\">\n",
       "                <div class=\"jupyter-widgets widget-label\" style=\"text-align: center;\">\n",
       "                    Figure\n",
       "                </div>\n",
       "                <img src='data:image/png;base64,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' width=640.0/>\n",
       "            </div>\n",
       "        "
      ],
      "text/plain": [
       "Canvas(toolbar=Toolbar(toolitems=[('Home', 'Reset original view', 'home', 'home'), ('Back', 'Back to previous …"
      ]
     },
     "metadata": {},
     "output_type": "display_data"
    }
   ],
   "source": [
    "###################################################################################\n",
    "# plotting learned constellation under energy constraint for (n,k) = (2,4) or (2,2)\n",
    "###################################################################################\n",
    "constellationPoints = transmitter.predict(symbol_encodings)\n",
    "r = np.linalg.norm(constellationPoints[0])\n",
    "theta = np.linspace(0,2*np.pi,200)\n",
    "fig, ax = plt.subplots()\n",
    "ax.scatter(constellationPoints[:,0],constellationPoints[:,1])\n",
    "ax.plot(r*np.cos(theta),r*np.sin(theta), c=\"green\", alpha = 0.1, marker=\".\")\n",
    "plt.axis((-2.5,2.5,-2.5,2.5))\n",
    "plt.grid()\n",
    "plt.xlabel('I Axis')\n",
    "plt.ylabel('Q Axis')\n",
    "plt.show()"
   ]
  },
  {
   "cell_type": "code",
   "execution_count": 22,
   "id": "0d5edc2f",
   "metadata": {},
   "outputs": [
    {
     "data": {
      "application/vnd.jupyter.widget-view+json": {
       "model_id": "a7182430edad4364b62325660c9c3f4a",
       "version_major": 2,
       "version_minor": 0
      },
      "image/png": "[encoded data removed]",
      "text/html": [
       "\n",
       "            <div style=\"display: inline-block;\">\n",
       "                <div class=\"jupyter-widgets widget-label\" style=\"text-align: center;\">\n",
       "                    Figure\n",
       "                </div>\n",
       "                <img src='data:image/png;base64,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' width=640.0/>\n",
       "            </div>\n",
       "        "
      ],
      "text/plain": [
       "Canvas(toolbar=Toolbar(toolitems=[('Home', 'Reset original view', 'home', 'home'), ('Back', 'Back to previous …"
      ]
     },
     "metadata": {},
     "output_type": "display_data"
    }
   ],
   "source": [
    "##########################################################################################\n",
    "# plotting learned constellation under average power constraint for (n,k) = (2,4) or (2,2)\n",
    "##########################################################################################\n",
    "\n",
    "fig, ax = plt.subplots()\n",
    "ax.scatter(constellationPoints[:,0],constellationPoints[:,1])\n",
    "plt.axis((-2.5,2.5,-2.5,2.5))\n",
    "plt.grid()\n",
    "plt.xlabel('I Axis')\n",
    "plt.ylabel('Q Axis')\n",
    "plt.show()"
   ]
  },
  {
   "cell_type": "markdown",
   "id": "469b9919",
   "metadata": {},
   "source": [
    "The following code snippet use TSNE to reduce the dimension of constellation for `(n,k) = (7,4)` "
   ]
  },
  {
   "cell_type": "code",
   "execution_count": 23,
   "id": "50d2a0fe",
   "metadata": {},
   "outputs": [],
   "source": [
    "# ###########################################################################################################\n",
    "# # Using sklearn T-distributed Stochastic Neighbor Embedding (TSNE) to reduce the dimension of constellation\n",
    "# ###########################################################################################################\n",
    "# num_samples = N_test \n",
    "\n",
    "# noise       = noise_stddev*np.random.randn(num_samples,n)\n",
    "# X           = transmitter.predict(test_data)\n",
    "# X_noisy     = X + noise\n",
    "\n",
    "# X_embedded  = TSNE(n_components=2, learning_rate='auto', n_iter = 35000, random_state = 0, perplexity=60).fit_transform(X_noisy)\n",
    "# X_embedded  = X_embedded/n"
   ]
  },
  {
   "cell_type": "code",
   "execution_count": 24,
   "id": "2455ed7f",
   "metadata": {},
   "outputs": [],
   "source": [
    "# ####################################################################################\n",
    "# # plotting higher dimensional received constellation in lower dimensions for (7,4) AE\n",
    "# ####################################################################################\n",
    "# fig, ax = plt.subplots()\n",
    "# ax.scatter(X_embedded[:,0],X_embedded[:,1], marker = \".\")\n",
    "# plt.axis((-2,2,-2,2))\n",
    "# plt.grid()\n",
    "# plt.xlabel('I Axis')\n",
    "# plt.ylabel('Q Axis')\n",
    "# plt.show()"
   ]
  },
  {
   "cell_type": "markdown",
   "id": "9736dc12",
   "metadata": {},
   "source": [
    "#### For (n,k) = (2,4) or (2,2) AutoEncoders"
   ]
  },
  {
   "cell_type": "markdown",
   "id": "2ec1db09",
   "metadata": {},
   "source": [
    "\n",
    "It turns out that under M = 16 and with an `energy constraint`, `(2,4) AE` learns a constellation which resemble `16-ary PSK` and with `power constraint` it learns a constellation which resemble `16-ary APSK`."
   ]
  },
  {
   "cell_type": "markdown",
   "id": "fa4482a6",
   "metadata": {},
   "source": [
    "# References\n"
   ]
  },
  {
   "cell_type": "markdown",
   "id": "a303b219",
   "metadata": {},
   "source": [
    "[1] T. O’Shea and J. Hoydis, \"An Introduction to Deep Learning for the Physical Layer,\" in IEEE Transactions on \n",
    "Cognitive Communications and Networking, vol. 3, no. 4, pp. 563-575, Dec. 2017, doi: 10.1109/TCCN.2017.2758370."
   ]
  }
 ],
 "metadata": {
  "kernelspec": {
   "display_name": "Python 3 (ipykernel)",
   "language": "python",
   "name": "python3"
  },
  "language_info": {
   "codemirror_mode": {
    "name": "ipython",
    "version": 3
   },
   "file_extension": ".py",
   "mimetype": "text/x-python",
   "name": "python",
   "nbconvert_exporter": "python",
   "pygments_lexer": "ipython3",
   "version": "3.11.0"
  }
 },
 "nbformat": 4,
 "nbformat_minor": 5
}
