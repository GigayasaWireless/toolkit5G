{
 "cells": [
  {
   "cell_type": "markdown",
   "id": "6690626c",
   "metadata": {},
   "source": [
    "# Selection of minimum CORESET Size for a Given Target Block Probability\n",
    "\n",
    "* In this notebook, we simulate a design problem in determining the minimum CORESET size needed for meeting a target blocking probability.\n",
    "\n",
    "\n",
    "* Specifically, given the number of UEs and the coverage condition, BS can properly determine the CORESET size to ensure the blocking probability does not exceed a specified threshold.\n",
    "\n",
    "\n",
    "* For evaluation, we consider the `medium coverage` condidtion where most of the UEs require medium ALs (i.e., AL 4), with AL distribution [0.05, 0.2, 0.5, 0.2, 0.05]\n",
    "\n",
    "* The CORESET size must increase when more UEs are scheduled and a smaller blocking probability target.\n",
    "\n",
    "\n",
    "* While a larger CORESET is beneficial for UE scheduling, it may not be desired from spectral and energy efficiency perspective, as more bandwith and more number of CCEs that a UE has to blindly look for. Therfore the network should properly select the CORESET size based on the requirements. So there is a trade off between CORESET size and target blocking probability.\n",
    "\n"
   ]
  },
  {
   "cell_type": "markdown",
   "id": "0fd0416b",
   "metadata": {},
   "source": [
    "## Python Libraries"
   ]
  },
  {
   "cell_type": "code",
   "execution_count": 1,
   "id": "51194d2e",
   "metadata": {},
   "outputs": [],
   "source": [
    "import os\n",
    "os.environ[\"CUDA_VISIBLE_DEVICES\"] = \"-1\"\n",
    "os.environ['TF_CPP_MIN_LOG_LEVEL'] = '3' \n",
    "\n",
    "# %matplotlib widget\n",
    "import matplotlib.pyplot  as plt\n",
    "import matplotlib.patches as mpatches\n",
    "import matplotlib as mpl\n",
    "\n",
    "import numpy      as np"
   ]
  },
  {
   "cell_type": "markdown",
   "id": "82659ef9",
   "metadata": {},
   "source": [
    "## 5G-Toolkit Libraries"
   ]
  },
  {
   "cell_type": "code",
   "execution_count": 2,
   "id": "f25079dd",
   "metadata": {},
   "outputs": [],
   "source": [
    "import sys\n",
    "sys.path.append(\"../../\")\n",
    "from toolkit5G.Scheduler import PDCCHScheduler"
   ]
  },
  {
   "cell_type": "markdown",
   "id": "71984bea",
   "metadata": {},
   "source": [
    "## Simulation Parameters\n",
    "The following parameters are used for this simulation:\n",
    "- `coresetID` denotes the coreset ID.\n",
    "- `slotNumber` denotes the slot-number carrying the PDCCH.\n",
    "- `searchSpaceType` denotes the search space type. UE specific search space (USS) or Common search space (CSS).\n",
    "- `nci` denotes the variable corresponding to carrier aggregation. Current simulation does not assume carrier aggregation."
   ]
  },
  {
   "cell_type": "code",
   "execution_count": 3,
   "id": "37fca166",
   "metadata": {},
   "outputs": [],
   "source": [
    "\n",
    "mu                = np.random.randint(4)    # numerlogy for sub-carrier spacing\n",
    "numSlotsPerFrame  = 2**mu * 10              # number of slots per radio frame\n",
    "coresetID         = 1                       # coreset ID\n",
    "slotNumber        = 0               \n",
    "searchSpaceType   = \"USS\"                   # search space type. UE specific search space\n",
    "nci               = 0                       # variable corresponding to carrier aggregation \n",
    "numIterations     = 1000\n"
   ]
  },
  {
   "cell_type": "markdown",
   "id": "ab9f09ec",
   "metadata": {},
   "source": [
    "## PDCCH Scheduling Parameters\n",
    "Following parameters are crucial for PDCCH scheduling performance:\n",
    "- ``coresetSize`` denotes coreset size or number of CCEs available for scheduling UEs.\n",
    "- ``strategy`` denotes the scheduling strategy.\n",
    "- ``numCandidates`` denotes number of PDCCH candidates per each Aggregation Level (AL).\n",
    "- ``aggLevelProbDistribution`` denotes the probability distribution with which an AL is choosen for a UE by the scheduler."
   ]
  },
  {
   "cell_type": "code",
   "execution_count": 4,
   "id": "555dff50",
   "metadata": {},
   "outputs": [],
   "source": [
    "aggLevelProbDistribution = np.array([0.05, 0.2, 0.5, 0.2, 0.05])\n",
    "minCCEs                  = 20\n",
    "maxCCEs                  = 135\n",
    "coresetSize              = np.arange(minCCEs,maxCCEs+1,5)\n",
    "numCandidates            = np.array([135,67,33,16,8], dtype=int)\n",
    "strategy                 = \"Conservative\" \n",
    "\n",
    "pdcchSchedulerObj = PDCCHScheduler(mu, slotNumber, coresetID, nci)\n"
   ]
  },
  {
   "cell_type": "markdown",
   "id": "c6136330",
   "metadata": {},
   "source": [
    "## Compute minimum coreset size  for ``numUEs`` = 5."
   ]
  },
  {
   "cell_type": "code",
   "execution_count": 5,
   "id": "94a23ca9",
   "metadata": {
    "scrolled": true
   },
   "outputs": [
    {
     "name": "stdout",
     "output_type": "stream",
     "text": [
      "Simulating (n,numCCEs) : 0, 20\n",
      "Simulating (n,numCCEs) : 1, 25\n",
      "Simulating (n,numCCEs) : 2, 30\n",
      "Simulating (n,numCCEs) : 3, 35\n",
      "Simulating (n,numCCEs) : 4, 40\n",
      "Simulating (n,numCCEs) : 5, 45\n",
      "Simulating (n,numCCEs) : 6, 50\n",
      "Simulating (n,numCCEs) : 7, 55\n",
      "Simulating (n,numCCEs) : 8, 60\n",
      "Simulating (n,numCCEs) : 9, 65\n",
      "Simulating (n,numCCEs) : 10, 70\n",
      "Simulating (n,numCCEs) : 11, 75\n",
      "Simulating (n,numCCEs) : 12, 80\n",
      "Simulating (n,numCCEs) : 13, 85\n",
      "Simulating (n,numCCEs) : 14, 90\n",
      "Simulating (n,numCCEs) : 15, 95\n",
      "Simulating (n,numCCEs) : 16, 100\n",
      "Simulating (n,numCCEs) : 17, 105\n",
      "Simulating (n,numCCEs) : 18, 110\n",
      "Simulating (n,numCCEs) : 19, 115\n",
      "Simulating (n,numCCEs) : 20, 120\n",
      "Simulating (n,numCCEs) : 21, 125\n",
      "Simulating (n,numCCEs) : 22, 130\n",
      "Simulating (n,numCCEs) : 23, 135\n"
     ]
    }
   ],
   "source": [
    "################\n",
    "# For 5 UEs\n",
    "################\n",
    "\n",
    "numUEs         = 5\n",
    "rnti           = np.random.choice( np.arange(1,65519+1), size = (numUEs,), replace=False)\n",
    "\n",
    "probOfBlocking = np.zeros((coresetSize.size,))\n",
    "for n in range(coresetSize.size):    \n",
    "    print(\"Simulating (n,numCCEs) : \"+str(n)+\", \"+str(coresetSize[n]))    \n",
    "    Nccep     = coresetSize[n]    \n",
    "    prob      = 0\n",
    "    for i in range(numIterations):\n",
    "        ueALdistribution  = np.random.multinomial(numUEs, aggLevelProbDistribution) \n",
    "        count             = pdcchSchedulerObj(Nccep,searchSpaceType,ueALdistribution,numCandidates,rnti,strategy)[0]\n",
    "        numBlockedUEs     = np.sum(count)\n",
    "        prob              = prob + (numBlockedUEs/numUEs)\n",
    "    probOfBlocking[n] = prob/numIterations\n",
    "    \n",
    "targetBlockingProbability = 0.05\n",
    "minCoresetSize5ForNumUEs5 = coresetSize[np.where(probOfBlocking<=targetBlockingProbability)[0][0]]\n",
    "\n",
    "targetBlockingProbability  = 0.10\n",
    "minCoresetSize10ForNumUEs5 = coresetSize[np.where(probOfBlocking<=targetBlockingProbability)[0][0]]\n",
    "\n",
    "targetBlockingProbability  = 0.15\n",
    "minCoresetSize15ForNumUEs5 = coresetSize[np.where(probOfBlocking<=targetBlockingProbability)[0][0]]\n",
    "\n",
    "targetBlockingProbability  = 0.20\n",
    "minCoresetSize20ForNumUEs5 = coresetSize[np.where(probOfBlocking<=targetBlockingProbability)[0][0]]"
   ]
  },
  {
   "cell_type": "markdown",
   "id": "3284a32d",
   "metadata": {},
   "source": [
    "## Compute minimum coreset size  for ``numUEs`` = 10."
   ]
  },
  {
   "cell_type": "code",
   "execution_count": 6,
   "id": "87db04a5",
   "metadata": {
    "scrolled": true
   },
   "outputs": [
    {
     "name": "stdout",
     "output_type": "stream",
     "text": [
      "Simulating (n,numCCEs) : 0, 20\n",
      "Simulating (n,numCCEs) : 1, 25\n",
      "Simulating (n,numCCEs) : 2, 30\n",
      "Simulating (n,numCCEs) : 3, 35\n",
      "Simulating (n,numCCEs) : 4, 40\n",
      "Simulating (n,numCCEs) : 5, 45\n",
      "Simulating (n,numCCEs) : 6, 50\n",
      "Simulating (n,numCCEs) : 7, 55\n",
      "Simulating (n,numCCEs) : 8, 60\n",
      "Simulating (n,numCCEs) : 9, 65\n",
      "Simulating (n,numCCEs) : 10, 70\n",
      "Simulating (n,numCCEs) : 11, 75\n",
      "Simulating (n,numCCEs) : 12, 80\n",
      "Simulating (n,numCCEs) : 13, 85\n",
      "Simulating (n,numCCEs) : 14, 90\n",
      "Simulating (n,numCCEs) : 15, 95\n",
      "Simulating (n,numCCEs) : 16, 100\n",
      "Simulating (n,numCCEs) : 17, 105\n",
      "Simulating (n,numCCEs) : 18, 110\n",
      "Simulating (n,numCCEs) : 19, 115\n",
      "Simulating (n,numCCEs) : 20, 120\n",
      "Simulating (n,numCCEs) : 21, 125\n",
      "Simulating (n,numCCEs) : 22, 130\n",
      "Simulating (n,numCCEs) : 23, 135\n"
     ]
    }
   ],
   "source": [
    "################\n",
    "# For 10 UEs\n",
    "################\n",
    "\n",
    "numUEs         = 10\n",
    "rnti           = np.random.choice( np.arange(1,65519+1), size = (numUEs,), replace=False)\n",
    "\n",
    "probOfBlocking = np.zeros((coresetSize.size,))\n",
    "for n in range(coresetSize.shape[0]):    \n",
    "    print(\"Simulating (n,numCCEs) : \"+str(n)+\", \"+str(coresetSize[n]))    \n",
    "    Nccep     = coresetSize[n]    \n",
    "    prob      = 0\n",
    "    for i in range(numIterations):\n",
    "        ueALdistribution  = np.random.multinomial(numUEs, aggLevelProbDistribution)\n",
    "        count             = pdcchSchedulerObj(Nccep,searchSpaceType,ueALdistribution,numCandidates,rnti,strategy)[0]\n",
    "        numBlockedUEs     = np.sum(count)\n",
    "        prob              = prob + (numBlockedUEs/numUEs)\n",
    "    probOfBlocking[n] = prob/numIterations\n",
    "    \n",
    "targetBlockingProbability   = 0.05\n",
    "minCoresetSize5ForNumUEs10  = coresetSize[np.where(probOfBlocking<=targetBlockingProbability)[0][0]]\n",
    "\n",
    "targetBlockingProbability   = 0.10\n",
    "minCoresetSize10ForNumUEs10 = coresetSize[np.where(probOfBlocking<=targetBlockingProbability)[0][0]]\n",
    "\n",
    "targetBlockingProbability   = 0.15\n",
    "minCoresetSize15ForNumUEs10 = coresetSize[np.where(probOfBlocking<=targetBlockingProbability)[0][0]]\n",
    "\n",
    "targetBlockingProbability   = 0.20\n",
    "minCoresetSize20ForNumUEs10 = coresetSize[np.where(probOfBlocking<=targetBlockingProbability)[0][0]]"
   ]
  },
  {
   "cell_type": "markdown",
   "id": "63ba0cf7",
   "metadata": {},
   "source": [
    "## Compute minimum coreset size  for ``numUEs`` = 15."
   ]
  },
  {
   "cell_type": "code",
   "execution_count": 7,
   "id": "b93040e4",
   "metadata": {
    "scrolled": true
   },
   "outputs": [
    {
     "name": "stdout",
     "output_type": "stream",
     "text": [
      "Simulating (n,numCCEs) : 0, 20\n",
      "Simulating (n,numCCEs) : 1, 25\n",
      "Simulating (n,numCCEs) : 2, 30\n",
      "Simulating (n,numCCEs) : 3, 35\n",
      "Simulating (n,numCCEs) : 4, 40\n",
      "Simulating (n,numCCEs) : 5, 45\n",
      "Simulating (n,numCCEs) : 6, 50\n",
      "Simulating (n,numCCEs) : 7, 55\n",
      "Simulating (n,numCCEs) : 8, 60\n",
      "Simulating (n,numCCEs) : 9, 65\n",
      "Simulating (n,numCCEs) : 10, 70\n",
      "Simulating (n,numCCEs) : 11, 75\n",
      "Simulating (n,numCCEs) : 12, 80\n",
      "Simulating (n,numCCEs) : 13, 85\n",
      "Simulating (n,numCCEs) : 14, 90\n",
      "Simulating (n,numCCEs) : 15, 95\n",
      "Simulating (n,numCCEs) : 16, 100\n",
      "Simulating (n,numCCEs) : 17, 105\n",
      "Simulating (n,numCCEs) : 18, 110\n",
      "Simulating (n,numCCEs) : 19, 115\n",
      "Simulating (n,numCCEs) : 20, 120\n",
      "Simulating (n,numCCEs) : 21, 125\n",
      "Simulating (n,numCCEs) : 22, 130\n",
      "Simulating (n,numCCEs) : 23, 135\n"
     ]
    }
   ],
   "source": [
    "################\n",
    "# For 15 UEs\n",
    "################\n",
    "\n",
    "numUEs         = 15\n",
    "rnti           = np.random.choice( np.arange(1,65519+1), size = (numUEs,), replace=False)\n",
    "\n",
    "probOfBlocking = np.zeros((coresetSize.size,))\n",
    "for n in range(coresetSize.shape[0]):    \n",
    "    print(\"Simulating (n,numCCEs) : \"+str(n)+\", \"+str(coresetSize[n]))    \n",
    "    Nccep     = coresetSize[n]    \n",
    "    prob      = 0\n",
    "    for i in range(numIterations):\n",
    "        ueALdistribution  = np.random.multinomial(numUEs, aggLevelProbDistribution) \n",
    "        count             = pdcchSchedulerObj(Nccep,searchSpaceType,ueALdistribution,numCandidates,rnti,strategy)[0]\n",
    "        numBlockedUEs     = np.sum(count)\n",
    "        prob              = prob + numBlockedUEs/numUEs\n",
    "    probOfBlocking[n] = prob/numIterations\n",
    "    \n",
    "targetBlockingProbability   = 0.05\n",
    "minCoresetSize5ForNumUEs15  = coresetSize[np.where(probOfBlocking<=targetBlockingProbability)[0][0]]\n",
    "\n",
    "targetBlockingProbability   = 0.10\n",
    "minCoresetSize10ForNumUEs15 = coresetSize[np.where(probOfBlocking<=targetBlockingProbability)[0][0]]\n",
    "\n",
    "targetBlockingProbability   = 0.15\n",
    "minCoresetSize15ForNumUEs15 = coresetSize[np.where(probOfBlocking<=targetBlockingProbability)[0][0]]\n",
    "\n",
    "targetBlockingProbability   = 0.20\n",
    "minCoresetSize20ForNumUEs15 = coresetSize[np.where(probOfBlocking<=targetBlockingProbability)[0][0]]"
   ]
  },
  {
   "cell_type": "markdown",
   "id": "3b4473f6",
   "metadata": {},
   "source": [
    "## Display Minimum CORESET size required to meet the Target Blocking Probability for different number of UEs.\n",
    "\n",
    "* Its the recreation of ``Fig. 11. Minimum required CORESET size for different number of UEs and blocking probability requirements`` from the reference paper referenced below [1].\n",
    "\n",
    "* Figure shows that the minimum required CORESET size for 5, 10, 15 UEs and different blocking probability targets of 5%. 10%, 15% and 20%.\n",
    "\n",
    "* Cleary, we see that the CORESET size increases when more UEs are scheduled and a smaller blocking probability target. For instance, comparing two cases:\n",
    "    * case-1: 5 UEs and 20% blocking probability target\n",
    "    * case-2: 10 UEs and 15% blocking probability target\n",
    "* It shows that CORESET size for case-2 needs 3 times larger than that of case-1 (i.e. from 25 CCEs to 75 CCEs).   "
   ]
  },
  {
   "cell_type": "code",
   "execution_count": 8,
   "id": "41db144d",
   "metadata": {},
   "outputs": [
    {
     "data": {
      "image/png": "[encoded data removed]",
      "text/plain": [
       "<Figure size 640x480 with 1 Axes>"
      ]
     },
     "metadata": {},
     "output_type": "display_data"
    }
   ],
   "source": [
    "\n",
    "species = (\"5\", \"10\", \"15\")\n",
    "penguin_means = {' 5% Blocking Probability' : (minCoresetSize5ForNumUEs5,  minCoresetSize5ForNumUEs10,  minCoresetSize5ForNumUEs15),\n",
    "                 '10% Blocking Probability': (minCoresetSize10ForNumUEs5, minCoresetSize10ForNumUEs10, minCoresetSize10ForNumUEs15),\n",
    "                 '15% Blocking Probability': (minCoresetSize15ForNumUEs5, minCoresetSize15ForNumUEs10, minCoresetSize15ForNumUEs15),\n",
    "                 '20% Blocking Probability': (minCoresetSize20ForNumUEs5, minCoresetSize20ForNumUEs10, minCoresetSize20ForNumUEs15)}\n",
    "\n",
    "x          = np.array([3,8,13]) # the label locations\n",
    "width      = 1                    # the width of the bars\n",
    "multiplier = 1\n",
    "\n",
    "fig, ax = plt.subplots(layout='constrained')\n",
    "\n",
    "for attribute, measurement in penguin_means.items():\n",
    "    offset = width * multiplier\n",
    "    rects = ax.bar(x + offset, measurement, width, label=attribute)\n",
    "    ax.bar_label(rects, padding=3)\n",
    "    multiplier += 1\n",
    "\n",
    "# Add some text for labels, title and custom x-axis tick labels, etc.\n",
    "ax.set_ylabel('Minimum CORESET size (number of CCEs)')\n",
    "ax.set_xlabel('Number of UEs: [5, 10, 15]')\n",
    "ax.set_title('Minimum required CORESET size.')\n",
    "ax.set_xticks(x+2.5, species)\n",
    "ax.legend(loc='upper left', ncols=1)\n",
    "ax.set_ylim(0, 100)\n",
    "ax.grid()\n",
    "plt.show()"
   ]
  },
  {
   "cell_type": "markdown",
   "id": "4fe8768d",
   "metadata": {},
   "source": [
    "### References"
   ]
  },
  {
   "cell_type": "markdown",
   "id": "08f37ec2",
   "metadata": {},
   "source": [
    "[1] `Blocking Probability Analysis for 5G New Radio (NR) Physical Downlink Control Channel`. Mohammad Mozaffari,\n",
    "      Y.-P. Eric Wang, and Kittipong Kittichokechai"
   ]
  },
  {
   "cell_type": "code",
   "execution_count": null,
   "id": "40c6eb29",
   "metadata": {},
   "outputs": [],
   "source": []
  }
 ],
 "metadata": {
  "kernelspec": {
   "display_name": "Python 3 (ipykernel)",
   "language": "python",
   "name": "python3"
  },
  "language_info": {
   "codemirror_mode": {
    "name": "ipython",
    "version": 3
   },
   "file_extension": ".py",
   "mimetype": "text/x-python",
   "name": "python",
   "nbconvert_exporter": "python",
   "pygments_lexer": "ipython3",
   "version": "3.11.0"
  }
 },
 "nbformat": 4,
 "nbformat_minor": 5
}
