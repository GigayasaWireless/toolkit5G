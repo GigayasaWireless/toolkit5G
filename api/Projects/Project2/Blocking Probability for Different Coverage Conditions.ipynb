{
 "cells": [
  {
   "cell_type": "markdown",
   "id": "6f86520e",
   "metadata": {},
   "source": [
    "# Variation in Blocking Probability for Different Coverage Conditions\n",
    "\n"
   ]
  },
  {
   "cell_type": "markdown",
   "id": "2a511899",
   "metadata": {},
   "source": [
    "* In this notebook, we compute the `blocking probability` as a function of `AL probability distribution of UEs`.\n",
    "* One can find how ALs are distributed in a CORESET by performing PDCCH link level performance with different ALs or system level simulations to determine SINR distribution of UEs.\n",
    "* In fact, suitable ALs are used for UEs to meet suitable PDCCH performance requirements.\n",
    "____________________________________________________________________________________________________________________\n",
    "\n",
    "* We consider 3 scenarios corresponding to `Good`, `Medium` and `Poor` coverage for evaluation.\n",
    "    * **Good Coverage** : Most of the UEs are in good coverage and require low ALs (i.e., ALs 1 and 2), with AL               distribution [0.5, 0.4, 0.07, 0.02, 0.01]\n",
    "    * **Medium Coverage** : Most of the UEs are in medium coverage and require medium ALs (i.e., AL 4), with AL               distribution [0.05, 0.2, 0.5, 0.2, 0.05]\n",
    "    * **Extreme Coverage** : Most of the UEs are in poor coverage and require high ALs (i.e., ALs 8 and 16), with AL           distribution [0.01, 0.02, 0.07, 0.4, 0.5]\n",
    "    \n",
    "    \n",
    "    \n",
    "* The CORESET size `Nccep` is 54 CCEs for this simulation."
   ]
  },
  {
   "cell_type": "markdown",
   "id": "5c438ece",
   "metadata": {},
   "source": [
    "## Import Python Libraries"
   ]
  },
  {
   "cell_type": "code",
   "execution_count": 1,
   "id": "a509472b",
   "metadata": {},
   "outputs": [],
   "source": [
    "import os\n",
    "os.environ[\"CUDA_VISIBLE_DEVICES\"] = \"-1\"\n",
    "os.environ['TF_CPP_MIN_LOG_LEVEL'] = '3' \n",
    "\n",
    "# %matplotlib widget\n",
    "import matplotlib.pyplot  as plt\n",
    "import matplotlib.patches as mpatches\n",
    "import matplotlib as mpl\n",
    "\n",
    "import numpy      as np"
   ]
  },
  {
   "cell_type": "markdown",
   "id": "2f95fbca",
   "metadata": {},
   "source": [
    "## Import 5G Toolkit Libraries"
   ]
  },
  {
   "cell_type": "code",
   "execution_count": 2,
   "id": "0fa4522a",
   "metadata": {},
   "outputs": [],
   "source": [
    "import sys\n",
    "sys.path.append(\"../../\")\n",
    "from toolkit5G.Scheduler import PDCCHScheduler"
   ]
  },
  {
   "cell_type": "markdown",
   "id": "13458319",
   "metadata": {},
   "source": [
    "## Simulation Parameters\n",
    "The following parameters are used for this simulation:\n",
    "- `coresetID` denotes the coreset ID.\n",
    "- `slotNumber` denotes the slot-number carrying the PDCCH.\n",
    "- `searchSpaceType` denotes the search space type. UE specific search space (USS) or Common search space (CSS).\n",
    "- `nci` denotes the variable corresponding to carrier aggregation. Current simulation does not assume carrier aggregation."
   ]
  },
  {
   "cell_type": "code",
   "execution_count": 3,
   "id": "5dad00f7",
   "metadata": {},
   "outputs": [],
   "source": [
    "mu                = np.random.randint(4)    # numerlogy for sub-carrier spacing\n",
    "numSlotsPerFrame  = 2**mu * 10              # number of slots per radio frame\n",
    "coresetID         = 1                       # coreset ID\n",
    "slotNumber        = 0               \n",
    "searchSpaceType   = \"USS\"                   # search space type. UE specific search space\n",
    "nci               = 0                       # variable corresponding to carrier aggregation "
   ]
  },
  {
   "cell_type": "markdown",
   "id": "a55bf253",
   "metadata": {},
   "source": [
    "## PDCCH Scheduling Parameters\n",
    "Following parameters are crucial for PDCCH scheduling performance:\n",
    "- ``Nccep`` denotes coreset size or number of CCEs available for scheduling UEs.\n",
    "- ``strategy`` denotes the scheduling strategy.\n",
    "- ``numCandidates`` denotes number of PDCCH candidates per each Aggregation Level."
   ]
  },
  {
   "cell_type": "code",
   "execution_count": 4,
   "id": "09c28044",
   "metadata": {},
   "outputs": [],
   "source": [
    "Nccep             = 54\n",
    "maxNumUEs         = 40\n",
    "numUEs            = np.arange(0,maxNumUEs+1,4)\n",
    "numUEs[0]         = 1\n",
    "numIterations     = 100\n",
    "numCandidates     = np.array([6,6,4,2,1], dtype=int)\n",
    "strategy          = \"Conservative\" \n",
    "pdcchSchedulerObj = PDCCHScheduler(mu,slotNumber, coresetID, nci)"
   ]
  },
  {
   "cell_type": "markdown",
   "id": "5502cde0",
   "metadata": {},
   "source": [
    "## PDCCH Scheduling for ``Good Coverage`` Scenarios\n",
    "\n",
    "- The characteristics of good coverage is parameterized by ``aggLevelProbDistributionForGoodCoverage``.\n",
    "- Simulation outcome (**blockage probability**) parameterized by ``probOfBlockingForGoodCoverage``.\n",
    "- Scenario where the SNR/SINR is good enough, so that a `lower` AL (i.e., AL of 1 and 2) is choosen by the             scheduler."
   ]
  },
  {
   "cell_type": "code",
   "execution_count": 5,
   "id": "c10b0e19",
   "metadata": {},
   "outputs": [
    {
     "name": "stdout",
     "output_type": "stream",
     "text": [
      "Simulating (n,numUEs) : 0, 1\n",
      "Simulating (n,numUEs) : 1, 4\n",
      "Simulating (n,numUEs) : 2, 8\n",
      "Simulating (n,numUEs) : 3, 12\n",
      "Simulating (n,numUEs) : 4, 16\n",
      "Simulating (n,numUEs) : 5, 20\n",
      "Simulating (n,numUEs) : 6, 24\n",
      "Simulating (n,numUEs) : 7, 28\n",
      "Simulating (n,numUEs) : 8, 32\n",
      "Simulating (n,numUEs) : 9, 36\n",
      "Simulating (n,numUEs) : 10, 40\n"
     ]
    }
   ],
   "source": [
    "################\n",
    "# Good Coverage\n",
    "################\n",
    "aggLevelProbDistributionForGoodCoverage = np.array([0.5, 0.4, 0.07, 0.02, 0.01])\n",
    "probOfBlockingForGoodCoverage = np.zeros(numUEs.shape)\n",
    "\n",
    "for n in range(numUEs.size):\n",
    "    print(\"Simulating (n,numUEs) : \"+str(n)+\", \"+str(numUEs[n]))\n",
    "    prob      = 0\n",
    "    for i in range(numIterations):\n",
    "        ueALdistribution  = np.random.multinomial(numUEs[n], aggLevelProbDistributionForGoodCoverage)\n",
    "        rnti              = np.random.choice( np.arange(1,65519+1), size = (numUEs[n],), replace=False)\n",
    "        count             = pdcchSchedulerObj(Nccep,searchSpaceType,ueALdistribution,numCandidates,rnti,strategy)[0]\n",
    "        numBlockedUEs     = np.sum(count)\n",
    "        prob              = prob + numBlockedUEs/numUEs[n]\n",
    "    probOfBlockingForGoodCoverage[n] = prob/numIterations"
   ]
  },
  {
   "cell_type": "markdown",
   "id": "5b19979a",
   "metadata": {},
   "source": [
    "## PDCCH Scheduling for ``Medium Coverage`` Scenarios\n",
    "\n",
    "- The characteristics of medium coverage is parameterized by ``aggLevelProbDistributionForMediumCoverage``.\n",
    "- Simulation outcome (**blockage probability**) parameterized by ``probOfBlockingForMediumCoverage``.\n",
    "- Scenario where the SNR/SINR is not good enough or medium, so that a `medium` AL (i.e., AL of 4) is choosen by the     scheduler.\n"
   ]
  },
  {
   "cell_type": "code",
   "execution_count": 6,
   "id": "e36c9619",
   "metadata": {},
   "outputs": [
    {
     "name": "stdout",
     "output_type": "stream",
     "text": [
      "Simulating (n,numUEs) : 0, 1\n",
      "Simulating (n,numUEs) : 1, 4\n",
      "Simulating (n,numUEs) : 2, 8\n",
      "Simulating (n,numUEs) : 3, 12\n",
      "Simulating (n,numUEs) : 4, 16\n",
      "Simulating (n,numUEs) : 5, 20\n",
      "Simulating (n,numUEs) : 6, 24\n",
      "Simulating (n,numUEs) : 7, 28\n",
      "Simulating (n,numUEs) : 8, 32\n",
      "Simulating (n,numUEs) : 9, 36\n",
      "Simulating (n,numUEs) : 10, 40\n"
     ]
    }
   ],
   "source": [
    "##################\n",
    "# Medium Coverage\n",
    "##################\n",
    "aggLevelProbDistributionForMediumCoverage = np.array([0.05, 0.2, 0.5, 0.2, 0.05])\n",
    "probOfBlockingForMediumCoverage = np.zeros(numUEs.shape)\n",
    "\n",
    "for n in range(numUEs.size):\n",
    "    print(\"Simulating (n,numUEs) : \"+str(n)+\", \"+str(numUEs[n]))\n",
    "    prob      = 0\n",
    "    for i in range(numIterations):\n",
    "        ueALdistribution  = np.random.multinomial(numUEs[n], aggLevelProbDistributionForMediumCoverage)\n",
    "        rnti              = np.random.choice( np.arange(1,65519+1), size = (numUEs[n],), replace=False)\n",
    "        count             = pdcchSchedulerObj(Nccep,searchSpaceType,ueALdistribution,numCandidates,rnti,strategy)[0]\n",
    "        numBlockedUEs     = np.sum(count)\n",
    "        prob              = prob + numBlockedUEs/numUEs[n]\n",
    "    probOfBlockingForMediumCoverage[n] = prob/numIterations"
   ]
  },
  {
   "cell_type": "markdown",
   "id": "86a7587b",
   "metadata": {},
   "source": [
    "## PDCCH Scheduling for ``Extreme Coverage`` Scenarios\n",
    "\n",
    "- The characteristics of extreme coverage is parameterized by ``aggLevelProbDistributionForExtremeCoverage``.\n",
    "- Simulation outcome (**blockage probability**) parameterized by ``probOfBlockingForExtremeCoverage``.\n",
    "- Scenario where the SNR/SINR is extreme or poor, so that a higher AL (i.e., AL of 8 and 16) is choosen by the         scheduler."
   ]
  },
  {
   "cell_type": "code",
   "execution_count": 7,
   "id": "0f1d204e",
   "metadata": {},
   "outputs": [
    {
     "name": "stdout",
     "output_type": "stream",
     "text": [
      "Simulating (n,numUEs) : 0, 1\n",
      "Simulating (n,numUEs) : 1, 4\n",
      "Simulating (n,numUEs) : 2, 8\n",
      "Simulating (n,numUEs) : 3, 12\n",
      "Simulating (n,numUEs) : 4, 16\n",
      "Simulating (n,numUEs) : 5, 20\n",
      "Simulating (n,numUEs) : 6, 24\n",
      "Simulating (n,numUEs) : 7, 28\n",
      "Simulating (n,numUEs) : 8, 32\n",
      "Simulating (n,numUEs) : 9, 36\n",
      "Simulating (n,numUEs) : 10, 40\n"
     ]
    }
   ],
   "source": [
    "################\n",
    "# Extreme Coverage\n",
    "################\n",
    "aggLevelProbDistributionForExtremeCoverage = np.array([0.01, 0.02, 0.07, 0.4, 0.5])\n",
    "probOfBlockingForExtremeCoverage = np.zeros(numUEs.shape)\n",
    "\n",
    "for n in range(numUEs.size):\n",
    "    print(\"Simulating (n,numUEs) : \"+str(n)+\", \"+str(numUEs[n]))\n",
    "    prob      = 0\n",
    "    for i in range(numIterations):\n",
    "        ueALdistribution  = np.random.multinomial(numUEs[n], aggLevelProbDistributionForExtremeCoverage)\n",
    "        rnti              = np.random.choice( np.arange(1,65519+1), size = (numUEs[n],), replace=False)\n",
    "        count             = pdcchSchedulerObj(Nccep,searchSpaceType,ueALdistribution,numCandidates,rnti,strategy)[0]\n",
    "        numBlockedUEs     = np.sum(count)\n",
    "        prob              = prob + numBlockedUEs/numUEs[n]\n",
    "    probOfBlockingForExtremeCoverage[n] = prob/numIterations"
   ]
  },
  {
   "cell_type": "markdown",
   "id": "221b4d95",
   "metadata": {},
   "source": [
    "## Plotting the results\n",
    "The following results clearly demonstrates the improvement in blocking probability with improvement in coverage.\n",
    "- For 10 UEs, **Medium coverage** and **Good coverage** experiences ~25%, 70% improvement in performance in comparison to **Extreme coverage**.\n",
    "- For 20 UEs, **Medium coverage** and **Good coverage** experiences ~25%, 60% improvement in performance in comparison to **Extreme coverage**.\n",
    "- For 40 UEs, **Medium coverage** and **Good coverage** experiences ~40%, 45% improvement in performance in comparison to **Extreme coverage**.\n",
    "\n",
    "Its the recreation of ``Fig. 8. Blocking probability for different AL distributions.`` from the paper referenced below."
   ]
  },
  {
   "cell_type": "code",
   "execution_count": 8,
   "id": "8cb63f81",
   "metadata": {},
   "outputs": [
    {
     "data": {
      "image/png": "[encoded data removed]",
      "text/plain": [
       "<Figure size 640x480 with 1 Axes>"
      ]
     },
     "metadata": {},
     "output_type": "display_data"
    }
   ],
   "source": [
    "fig, ax = plt.subplots()\n",
    "ax.plot(numUEs, probOfBlockingForGoodCoverage,    marker  = \"*\", linestyle = \"solid\", ms = 6, c = 'b', label = \"Good Coverage\")\n",
    "ax.plot(numUEs, probOfBlockingForMediumCoverage,  marker  = \"o\", linestyle = \"solid\", ms = 6, c = 'y', label = \"Medium Coverage\")\n",
    "ax.plot(numUEs, probOfBlockingForExtremeCoverage, marker  = \"+\", linestyle = \"solid\", ms = 6, c = 'k', label = \"Extreme Coverage\")\n",
    "\n",
    "ax.legend()\n",
    "ax.set_xlabel('Total Number of Scheduled UEs')\n",
    "ax.set_ylabel('Blocking Probability')\n",
    "ax.set_title('Blocking Probability for different AL distributions', fontsize=12) \n",
    "ax.set_xticks(numUEs)\n",
    "ax.grid()\n",
    "plt.show()"
   ]
  },
  {
   "cell_type": "markdown",
   "id": "ce44b3a8",
   "metadata": {},
   "source": [
    "### References"
   ]
  },
  {
   "cell_type": "markdown",
   "id": "330b1f40",
   "metadata": {},
   "source": [
    "[1] `Blocking Probability Analysis for 5G New Radio (NR) Physical Downlink Control Channel`. Mohammad Mozaffari,\n",
    "      Y.-P. Eric Wang, and Kittipong Kittichokechai"
   ]
  },
  {
   "cell_type": "code",
   "execution_count": null,
   "id": "df8d592d",
   "metadata": {},
   "outputs": [],
   "source": []
  }
 ],
 "metadata": {
  "kernelspec": {
   "display_name": "Python 3 (ipykernel)",
   "language": "python",
   "name": "python3"
  },
  "language_info": {
   "codemirror_mode": {
    "name": "ipython",
    "version": 3
   },
   "file_extension": ".py",
   "mimetype": "text/x-python",
   "name": "python",
   "nbconvert_exporter": "python",
   "pygments_lexer": "ipython3",
   "version": "3.11.0"
  }
 },
 "nbformat": 4,
 "nbformat_minor": 5
}
